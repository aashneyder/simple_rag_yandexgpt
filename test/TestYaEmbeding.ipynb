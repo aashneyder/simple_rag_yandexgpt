{
 "cells": [
  {
   "cell_type": "code",
   "execution_count": 1,
   "id": "c83a38a9-4b5a-4cd9-80ee-b4e5cb26716c",
   "metadata": {
    "collapsed": true,
    "jupyter": {
     "outputs_hidden": true
    }
   },
   "outputs": [
    {
     "name": "stdout",
     "output_type": "stream",
     "text": [
      "Requirement already satisfied: openai in /opt/conda/lib/python3.11/site-packages (from -r ../requirements.txt (line 1)) (1.14.1)\n",
      "Requirement already satisfied: python-dotenv in /opt/conda/lib/python3.11/site-packages (from -r ../requirements.txt (line 2)) (1.0.1)\n",
      "Requirement already satisfied: chromadb in /opt/conda/lib/python3.11/site-packages (from -r ../requirements.txt (line 3)) (0.4.24)\n",
      "Requirement already satisfied: langchain-chroma in /opt/conda/lib/python3.11/site-packages (from -r ../requirements.txt (line 4)) (0.1.0)\n",
      "Requirement already satisfied: langchain[all] in /opt/conda/lib/python3.11/site-packages (from -r ../requirements.txt (line 5)) (0.1.12)\n",
      "Requirement already satisfied: anyio<5,>=3.5.0 in /opt/conda/lib/python3.11/site-packages (from openai->-r ../requirements.txt (line 1)) (3.7.0)\n",
      "Requirement already satisfied: distro<2,>=1.7.0 in /opt/conda/lib/python3.11/site-packages (from openai->-r ../requirements.txt (line 1)) (1.9.0)\n",
      "Requirement already satisfied: httpx<1,>=0.23.0 in /opt/conda/lib/python3.11/site-packages (from openai->-r ../requirements.txt (line 1)) (0.27.0)\n",
      "Requirement already satisfied: pydantic<3,>=1.9.0 in /opt/conda/lib/python3.11/site-packages (from openai->-r ../requirements.txt (line 1)) (2.6.4)\n",
      "Requirement already satisfied: sniffio in /opt/conda/lib/python3.11/site-packages (from openai->-r ../requirements.txt (line 1)) (1.3.0)\n",
      "Requirement already satisfied: tqdm>4 in /opt/conda/lib/python3.11/site-packages (from openai->-r ../requirements.txt (line 1)) (4.65.0)\n",
      "Requirement already satisfied: typing-extensions<5,>=4.7 in /opt/conda/lib/python3.11/site-packages (from openai->-r ../requirements.txt (line 1)) (4.10.0)\n",
      "Requirement already satisfied: build>=1.0.3 in /opt/conda/lib/python3.11/site-packages (from chromadb->-r ../requirements.txt (line 3)) (1.2.1)\n",
      "Requirement already satisfied: requests>=2.28 in /opt/conda/lib/python3.11/site-packages (from chromadb->-r ../requirements.txt (line 3)) (2.31.0)\n",
      "Requirement already satisfied: chroma-hnswlib==0.7.3 in /opt/conda/lib/python3.11/site-packages (from chromadb->-r ../requirements.txt (line 3)) (0.7.3)\n",
      "Requirement already satisfied: fastapi>=0.95.2 in /opt/conda/lib/python3.11/site-packages (from chromadb->-r ../requirements.txt (line 3)) (0.110.1)\n",
      "Requirement already satisfied: uvicorn[standard]>=0.18.3 in /opt/conda/lib/python3.11/site-packages (from chromadb->-r ../requirements.txt (line 3)) (0.29.0)\n",
      "Requirement already satisfied: numpy>=1.22.5 in /opt/conda/lib/python3.11/site-packages (from chromadb->-r ../requirements.txt (line 3)) (1.26.4)\n",
      "Requirement already satisfied: posthog>=2.4.0 in /opt/conda/lib/python3.11/site-packages (from chromadb->-r ../requirements.txt (line 3)) (3.5.0)\n",
      "Requirement already satisfied: pulsar-client>=3.1.0 in /opt/conda/lib/python3.11/site-packages (from chromadb->-r ../requirements.txt (line 3)) (3.5.0)\n",
      "Requirement already satisfied: onnxruntime>=1.14.1 in /opt/conda/lib/python3.11/site-packages (from chromadb->-r ../requirements.txt (line 3)) (1.17.3)\n",
      "Requirement already satisfied: opentelemetry-api>=1.2.0 in /opt/conda/lib/python3.11/site-packages (from chromadb->-r ../requirements.txt (line 3)) (1.24.0)\n",
      "Requirement already satisfied: opentelemetry-exporter-otlp-proto-grpc>=1.2.0 in /opt/conda/lib/python3.11/site-packages (from chromadb->-r ../requirements.txt (line 3)) (1.24.0)\n",
      "Requirement already satisfied: opentelemetry-instrumentation-fastapi>=0.41b0 in /opt/conda/lib/python3.11/site-packages (from chromadb->-r ../requirements.txt (line 3)) (0.45b0)\n",
      "Requirement already satisfied: opentelemetry-sdk>=1.2.0 in /opt/conda/lib/python3.11/site-packages (from chromadb->-r ../requirements.txt (line 3)) (1.24.0)\n",
      "Requirement already satisfied: tokenizers>=0.13.2 in /opt/conda/lib/python3.11/site-packages (from chromadb->-r ../requirements.txt (line 3)) (0.15.2)\n",
      "Requirement already satisfied: pypika>=0.48.9 in /opt/conda/lib/python3.11/site-packages (from chromadb->-r ../requirements.txt (line 3)) (0.48.9)\n",
      "Requirement already satisfied: overrides>=7.3.1 in /opt/conda/lib/python3.11/site-packages (from chromadb->-r ../requirements.txt (line 3)) (7.3.1)\n",
      "Requirement already satisfied: importlib-resources in /opt/conda/lib/python3.11/site-packages (from chromadb->-r ../requirements.txt (line 3)) (5.12.0)\n",
      "Requirement already satisfied: grpcio>=1.58.0 in /opt/conda/lib/python3.11/site-packages (from chromadb->-r ../requirements.txt (line 3)) (1.62.1)\n",
      "Requirement already satisfied: bcrypt>=4.0.1 in /opt/conda/lib/python3.11/site-packages (from chromadb->-r ../requirements.txt (line 3)) (4.1.2)\n",
      "Requirement already satisfied: typer>=0.9.0 in /opt/conda/lib/python3.11/site-packages (from chromadb->-r ../requirements.txt (line 3)) (0.12.3)\n",
      "Requirement already satisfied: kubernetes>=28.1.0 in /opt/conda/lib/python3.11/site-packages (from chromadb->-r ../requirements.txt (line 3)) (29.0.0)\n",
      "Requirement already satisfied: tenacity>=8.2.3 in /opt/conda/lib/python3.11/site-packages (from chromadb->-r ../requirements.txt (line 3)) (8.2.3)\n",
      "Requirement already satisfied: PyYAML>=6.0.0 in /opt/conda/lib/python3.11/site-packages (from chromadb->-r ../requirements.txt (line 3)) (6.0)\n",
      "Requirement already satisfied: mmh3>=4.0.1 in /opt/conda/lib/python3.11/site-packages (from chromadb->-r ../requirements.txt (line 3)) (4.1.0)\n",
      "Requirement already satisfied: orjson>=3.9.12 in /opt/conda/lib/python3.11/site-packages (from chromadb->-r ../requirements.txt (line 3)) (3.9.15)\n",
      "Requirement already satisfied: langchain-core<0.2.0,>=0.1.40 in /opt/conda/lib/python3.11/site-packages (from langchain-chroma->-r ../requirements.txt (line 4)) (0.1.43)\n",
      "Requirement already satisfied: SQLAlchemy<3,>=1.4 in /opt/conda/lib/python3.11/site-packages (from langchain[all]->-r ../requirements.txt (line 5)) (2.0.17)\n",
      "Requirement already satisfied: aiohttp<4.0.0,>=3.8.3 in /opt/conda/lib/python3.11/site-packages (from langchain[all]->-r ../requirements.txt (line 5)) (3.9.3)\n",
      "Requirement already satisfied: dataclasses-json<0.7,>=0.5.7 in /opt/conda/lib/python3.11/site-packages (from langchain[all]->-r ../requirements.txt (line 5)) (0.6.4)\n",
      "Requirement already satisfied: jsonpatch<2.0,>=1.33 in /opt/conda/lib/python3.11/site-packages (from langchain[all]->-r ../requirements.txt (line 5)) (1.33)\n",
      "Requirement already satisfied: langchain-community<0.1,>=0.0.28 in /opt/conda/lib/python3.11/site-packages (from langchain[all]->-r ../requirements.txt (line 5)) (0.0.28)\n",
      "Requirement already satisfied: langchain-text-splitters<0.1,>=0.0.1 in /opt/conda/lib/python3.11/site-packages (from langchain[all]->-r ../requirements.txt (line 5)) (0.0.1)\n",
      "Requirement already satisfied: langsmith<0.2.0,>=0.1.17 in /opt/conda/lib/python3.11/site-packages (from langchain[all]->-r ../requirements.txt (line 5)) (0.1.29)\n",
      "Requirement already satisfied: aiosignal>=1.1.2 in /opt/conda/lib/python3.11/site-packages (from aiohttp<4.0.0,>=3.8.3->langchain[all]->-r ../requirements.txt (line 5)) (1.3.1)\n",
      "Requirement already satisfied: attrs>=17.3.0 in /opt/conda/lib/python3.11/site-packages (from aiohttp<4.0.0,>=3.8.3->langchain[all]->-r ../requirements.txt (line 5)) (23.1.0)\n",
      "Requirement already satisfied: frozenlist>=1.1.1 in /opt/conda/lib/python3.11/site-packages (from aiohttp<4.0.0,>=3.8.3->langchain[all]->-r ../requirements.txt (line 5)) (1.4.1)\n",
      "Requirement already satisfied: multidict<7.0,>=4.5 in /opt/conda/lib/python3.11/site-packages (from aiohttp<4.0.0,>=3.8.3->langchain[all]->-r ../requirements.txt (line 5)) (6.0.5)\n",
      "Requirement already satisfied: yarl<2.0,>=1.0 in /opt/conda/lib/python3.11/site-packages (from aiohttp<4.0.0,>=3.8.3->langchain[all]->-r ../requirements.txt (line 5)) (1.9.4)\n",
      "Requirement already satisfied: idna>=2.8 in /opt/conda/lib/python3.11/site-packages (from anyio<5,>=3.5.0->openai->-r ../requirements.txt (line 1)) (3.4)\n",
      "Requirement already satisfied: packaging>=19.1 in /opt/conda/lib/python3.11/site-packages (from build>=1.0.3->chromadb->-r ../requirements.txt (line 3)) (23.2)\n",
      "Requirement already satisfied: pyproject_hooks in /opt/conda/lib/python3.11/site-packages (from build>=1.0.3->chromadb->-r ../requirements.txt (line 3)) (1.0.0)\n",
      "Requirement already satisfied: marshmallow<4.0.0,>=3.18.0 in /opt/conda/lib/python3.11/site-packages (from dataclasses-json<0.7,>=0.5.7->langchain[all]->-r ../requirements.txt (line 5)) (3.21.1)\n",
      "Requirement already satisfied: typing-inspect<1,>=0.4.0 in /opt/conda/lib/python3.11/site-packages (from dataclasses-json<0.7,>=0.5.7->langchain[all]->-r ../requirements.txt (line 5)) (0.9.0)\n",
      "Requirement already satisfied: starlette<0.38.0,>=0.37.2 in /opt/conda/lib/python3.11/site-packages (from fastapi>=0.95.2->chromadb->-r ../requirements.txt (line 3)) (0.37.2)\n",
      "Requirement already satisfied: certifi in /opt/conda/lib/python3.11/site-packages (from httpx<1,>=0.23.0->openai->-r ../requirements.txt (line 1)) (2023.5.7)\n",
      "Requirement already satisfied: httpcore==1.* in /opt/conda/lib/python3.11/site-packages (from httpx<1,>=0.23.0->openai->-r ../requirements.txt (line 1)) (1.0.4)\n",
      "Requirement already satisfied: h11<0.15,>=0.13 in /opt/conda/lib/python3.11/site-packages (from httpcore==1.*->httpx<1,>=0.23.0->openai->-r ../requirements.txt (line 1)) (0.14.0)\n",
      "Requirement already satisfied: jsonpointer>=1.9 in /opt/conda/lib/python3.11/site-packages (from jsonpatch<2.0,>=1.33->langchain[all]->-r ../requirements.txt (line 5)) (2.0)\n",
      "Requirement already satisfied: six>=1.9.0 in /opt/conda/lib/python3.11/site-packages (from kubernetes>=28.1.0->chromadb->-r ../requirements.txt (line 3)) (1.16.0)\n",
      "Requirement already satisfied: python-dateutil>=2.5.3 in /opt/conda/lib/python3.11/site-packages (from kubernetes>=28.1.0->chromadb->-r ../requirements.txt (line 3)) (2.8.2)\n",
      "Requirement already satisfied: google-auth>=1.0.1 in /opt/conda/lib/python3.11/site-packages (from kubernetes>=28.1.0->chromadb->-r ../requirements.txt (line 3)) (2.29.0)\n",
      "Requirement already satisfied: websocket-client!=0.40.0,!=0.41.*,!=0.42.*,>=0.32.0 in /opt/conda/lib/python3.11/site-packages (from kubernetes>=28.1.0->chromadb->-r ../requirements.txt (line 3)) (1.6.1)\n",
      "Requirement already satisfied: requests-oauthlib in /opt/conda/lib/python3.11/site-packages (from kubernetes>=28.1.0->chromadb->-r ../requirements.txt (line 3)) (2.0.0)\n",
      "Requirement already satisfied: oauthlib>=3.2.2 in /opt/conda/lib/python3.11/site-packages (from kubernetes>=28.1.0->chromadb->-r ../requirements.txt (line 3)) (3.2.2)\n",
      "Requirement already satisfied: urllib3>=1.24.2 in /opt/conda/lib/python3.11/site-packages (from kubernetes>=28.1.0->chromadb->-r ../requirements.txt (line 3)) (2.0.3)\n",
      "Requirement already satisfied: coloredlogs in /opt/conda/lib/python3.11/site-packages (from onnxruntime>=1.14.1->chromadb->-r ../requirements.txt (line 3)) (15.0.1)\n",
      "Requirement already satisfied: flatbuffers in /opt/conda/lib/python3.11/site-packages (from onnxruntime>=1.14.1->chromadb->-r ../requirements.txt (line 3)) (24.3.25)\n",
      "Requirement already satisfied: protobuf in /opt/conda/lib/python3.11/site-packages (from onnxruntime>=1.14.1->chromadb->-r ../requirements.txt (line 3)) (4.25.3)\n",
      "Requirement already satisfied: sympy in /opt/conda/lib/python3.11/site-packages (from onnxruntime>=1.14.1->chromadb->-r ../requirements.txt (line 3)) (1.12)\n",
      "Requirement already satisfied: deprecated>=1.2.6 in /opt/conda/lib/python3.11/site-packages (from opentelemetry-api>=1.2.0->chromadb->-r ../requirements.txt (line 3)) (1.2.14)\n",
      "Requirement already satisfied: importlib-metadata<=7.0,>=6.0 in /opt/conda/lib/python3.11/site-packages (from opentelemetry-api>=1.2.0->chromadb->-r ../requirements.txt (line 3)) (6.7.0)\n",
      "Requirement already satisfied: googleapis-common-protos~=1.52 in /opt/conda/lib/python3.11/site-packages (from opentelemetry-exporter-otlp-proto-grpc>=1.2.0->chromadb->-r ../requirements.txt (line 3)) (1.63.0)\n",
      "Requirement already satisfied: opentelemetry-exporter-otlp-proto-common==1.24.0 in /opt/conda/lib/python3.11/site-packages (from opentelemetry-exporter-otlp-proto-grpc>=1.2.0->chromadb->-r ../requirements.txt (line 3)) (1.24.0)\n",
      "Requirement already satisfied: opentelemetry-proto==1.24.0 in /opt/conda/lib/python3.11/site-packages (from opentelemetry-exporter-otlp-proto-grpc>=1.2.0->chromadb->-r ../requirements.txt (line 3)) (1.24.0)\n",
      "Requirement already satisfied: opentelemetry-instrumentation-asgi==0.45b0 in /opt/conda/lib/python3.11/site-packages (from opentelemetry-instrumentation-fastapi>=0.41b0->chromadb->-r ../requirements.txt (line 3)) (0.45b0)\n",
      "Requirement already satisfied: opentelemetry-instrumentation==0.45b0 in /opt/conda/lib/python3.11/site-packages (from opentelemetry-instrumentation-fastapi>=0.41b0->chromadb->-r ../requirements.txt (line 3)) (0.45b0)\n",
      "Requirement already satisfied: opentelemetry-semantic-conventions==0.45b0 in /opt/conda/lib/python3.11/site-packages (from opentelemetry-instrumentation-fastapi>=0.41b0->chromadb->-r ../requirements.txt (line 3)) (0.45b0)\n",
      "Requirement already satisfied: opentelemetry-util-http==0.45b0 in /opt/conda/lib/python3.11/site-packages (from opentelemetry-instrumentation-fastapi>=0.41b0->chromadb->-r ../requirements.txt (line 3)) (0.45b0)\n",
      "Requirement already satisfied: setuptools>=16.0 in /opt/conda/lib/python3.11/site-packages (from opentelemetry-instrumentation==0.45b0->opentelemetry-instrumentation-fastapi>=0.41b0->chromadb->-r ../requirements.txt (line 3)) (68.0.0)\n",
      "Requirement already satisfied: wrapt<2.0.0,>=1.0.0 in /opt/conda/lib/python3.11/site-packages (from opentelemetry-instrumentation==0.45b0->opentelemetry-instrumentation-fastapi>=0.41b0->chromadb->-r ../requirements.txt (line 3)) (1.16.0)\n",
      "Requirement already satisfied: asgiref~=3.0 in /opt/conda/lib/python3.11/site-packages (from opentelemetry-instrumentation-asgi==0.45b0->opentelemetry-instrumentation-fastapi>=0.41b0->chromadb->-r ../requirements.txt (line 3)) (3.8.1)\n",
      "Requirement already satisfied: monotonic>=1.5 in /opt/conda/lib/python3.11/site-packages (from posthog>=2.4.0->chromadb->-r ../requirements.txt (line 3)) (1.6)\n",
      "Requirement already satisfied: backoff>=1.10.0 in /opt/conda/lib/python3.11/site-packages (from posthog>=2.4.0->chromadb->-r ../requirements.txt (line 3)) (2.2.1)\n",
      "Requirement already satisfied: annotated-types>=0.4.0 in /opt/conda/lib/python3.11/site-packages (from pydantic<3,>=1.9.0->openai->-r ../requirements.txt (line 1)) (0.6.0)\n",
      "Requirement already satisfied: pydantic-core==2.16.3 in /opt/conda/lib/python3.11/site-packages (from pydantic<3,>=1.9.0->openai->-r ../requirements.txt (line 1)) (2.16.3)\n",
      "Requirement already satisfied: charset-normalizer<4,>=2 in /opt/conda/lib/python3.11/site-packages (from requests>=2.28->chromadb->-r ../requirements.txt (line 3)) (3.1.0)\n",
      "Requirement already satisfied: greenlet!=0.4.17 in /opt/conda/lib/python3.11/site-packages (from SQLAlchemy<3,>=1.4->langchain[all]->-r ../requirements.txt (line 5)) (2.0.2)\n",
      "Requirement already satisfied: huggingface_hub<1.0,>=0.16.4 in /opt/conda/lib/python3.11/site-packages (from tokenizers>=0.13.2->chromadb->-r ../requirements.txt (line 3)) (0.22.2)\n",
      "Requirement already satisfied: click>=8.0.0 in /opt/conda/lib/python3.11/site-packages (from typer>=0.9.0->chromadb->-r ../requirements.txt (line 3)) (8.1.7)\n",
      "Requirement already satisfied: shellingham>=1.3.0 in /opt/conda/lib/python3.11/site-packages (from typer>=0.9.0->chromadb->-r ../requirements.txt (line 3)) (1.5.4)\n",
      "Requirement already satisfied: rich>=10.11.0 in /opt/conda/lib/python3.11/site-packages (from typer>=0.9.0->chromadb->-r ../requirements.txt (line 3)) (13.7.1)\n",
      "Requirement already satisfied: httptools>=0.5.0 in /opt/conda/lib/python3.11/site-packages (from uvicorn[standard]>=0.18.3->chromadb->-r ../requirements.txt (line 3)) (0.6.1)\n",
      "Requirement already satisfied: uvloop!=0.15.0,!=0.15.1,>=0.14.0 in /opt/conda/lib/python3.11/site-packages (from uvicorn[standard]>=0.18.3->chromadb->-r ../requirements.txt (line 3)) (0.19.0)\n",
      "Requirement already satisfied: watchfiles>=0.13 in /opt/conda/lib/python3.11/site-packages (from uvicorn[standard]>=0.18.3->chromadb->-r ../requirements.txt (line 3)) (0.21.0)\n",
      "Requirement already satisfied: websockets>=10.4 in /opt/conda/lib/python3.11/site-packages (from uvicorn[standard]>=0.18.3->chromadb->-r ../requirements.txt (line 3)) (12.0)\n",
      "Requirement already satisfied: cachetools<6.0,>=2.0.0 in /opt/conda/lib/python3.11/site-packages (from google-auth>=1.0.1->kubernetes>=28.1.0->chromadb->-r ../requirements.txt (line 3)) (5.3.3)\n",
      "Requirement already satisfied: pyasn1-modules>=0.2.1 in /opt/conda/lib/python3.11/site-packages (from google-auth>=1.0.1->kubernetes>=28.1.0->chromadb->-r ../requirements.txt (line 3)) (0.4.0)\n",
      "Requirement already satisfied: rsa<5,>=3.1.4 in /opt/conda/lib/python3.11/site-packages (from google-auth>=1.0.1->kubernetes>=28.1.0->chromadb->-r ../requirements.txt (line 3)) (4.9)\n",
      "Requirement already satisfied: filelock in /opt/conda/lib/python3.11/site-packages (from huggingface_hub<1.0,>=0.16.4->tokenizers>=0.13.2->chromadb->-r ../requirements.txt (line 3)) (3.13.4)\n",
      "Requirement already satisfied: fsspec>=2023.5.0 in /opt/conda/lib/python3.11/site-packages (from huggingface_hub<1.0,>=0.16.4->tokenizers>=0.13.2->chromadb->-r ../requirements.txt (line 3)) (2024.3.1)\n",
      "Requirement already satisfied: zipp>=0.5 in /opt/conda/lib/python3.11/site-packages (from importlib-metadata<=7.0,>=6.0->opentelemetry-api>=1.2.0->chromadb->-r ../requirements.txt (line 3)) (3.15.0)\n",
      "Requirement already satisfied: markdown-it-py>=2.2.0 in /opt/conda/lib/python3.11/site-packages (from rich>=10.11.0->typer>=0.9.0->chromadb->-r ../requirements.txt (line 3)) (3.0.0)\n",
      "Requirement already satisfied: pygments<3.0.0,>=2.13.0 in /opt/conda/lib/python3.11/site-packages (from rich>=10.11.0->typer>=0.9.0->chromadb->-r ../requirements.txt (line 3)) (2.15.1)\n",
      "Requirement already satisfied: mypy-extensions>=0.3.0 in /opt/conda/lib/python3.11/site-packages (from typing-inspect<1,>=0.4.0->dataclasses-json<0.7,>=0.5.7->langchain[all]->-r ../requirements.txt (line 5)) (1.0.0)\n",
      "Requirement already satisfied: humanfriendly>=9.1 in /opt/conda/lib/python3.11/site-packages (from coloredlogs->onnxruntime>=1.14.1->chromadb->-r ../requirements.txt (line 3)) (10.0)\n",
      "Requirement already satisfied: mpmath>=0.19 in /opt/conda/lib/python3.11/site-packages (from sympy->onnxruntime>=1.14.1->chromadb->-r ../requirements.txt (line 3)) (1.3.0)\n",
      "Requirement already satisfied: mdurl~=0.1 in /opt/conda/lib/python3.11/site-packages (from markdown-it-py>=2.2.0->rich>=10.11.0->typer>=0.9.0->chromadb->-r ../requirements.txt (line 3)) (0.1.2)\n",
      "Requirement already satisfied: pyasn1<0.7.0,>=0.4.6 in /opt/conda/lib/python3.11/site-packages (from pyasn1-modules>=0.2.1->google-auth>=1.0.1->kubernetes>=28.1.0->chromadb->-r ../requirements.txt (line 3)) (0.6.0)\n"
     ]
    }
   ],
   "source": [
    "!pip install -r ../requirements.txt"
   ]
  },
  {
   "cell_type": "markdown",
   "id": "89bb53d2-500f-4ddf-b722-f21d41b8ab61",
   "metadata": {},
   "source": [
    "### Добавляем импорты и считываем переменные"
   ]
  },
  {
   "cell_type": "code",
   "execution_count": 2,
   "id": "55227df3-38c4-4bff-ab36-47335514714e",
   "metadata": {},
   "outputs": [],
   "source": [
    "import requests\n",
    "import numpy as np\n",
    "import os\n",
    "import glob\n",
    "import chromadb\n",
    "import json\n",
    "\n",
    "%reload_ext dotenv \n",
    "%dotenv ../.env"
   ]
  },
  {
   "cell_type": "markdown",
   "id": "1e536ebb-c83a-4c8a-b277-350662c19481",
   "metadata": {},
   "source": [
    "### Создаем переменные и функциии для работы с YandexGPT Embedding Model\n",
    "+ `embed_doc` - возвращает embedding документа\n",
    "+ `embed_query` - возвращает embedding запроса"
   ]
  },
  {
   "cell_type": "code",
   "execution_count": 3,
   "id": "c5681dd2-184b-434a-9848-3893453953fc",
   "metadata": {},
   "outputs": [],
   "source": [
    "api_key = os.getenv('YAGPT_API_KEY')\n",
    "folder_id = os.getenv('YA_FOLDER_ID')\n",
    "\n",
    "doc_uri = f\"emb://{folder_id}/text-search-doc/latest\"\n",
    "query_uri = f\"emb://{folder_id}/text-search-query/latest\"\n",
    "\n",
    "embed_url = \"https://llm.api.cloud.yandex.net:443/foundationModels/v1/textEmbedding\"\n",
    "headers = {\"Content-Type\": \"application/json\", 'Authorization': f'Api-Key {api_key}', \"x-folder-id\": f\"{folder_id}\"}\n",
    "\n",
    "def embed_doc(text):\n",
    "    json = {\n",
    "        \"modelUri\": doc_uri,\n",
    "        \"text\": text\n",
    "    }\n",
    "    req = requests.post(embed_url, json=json, headers=headers)\n",
    "    return req.text\n",
    "    \n",
    "def embed_query(text):\n",
    "    json = {\n",
    "        \"modelUri\": query_uri,\n",
    "        \"text\": text\n",
    "    }\n",
    "    req = requests.post(embed_url, json=json, headers=headers)\n",
    "    return req.text"
   ]
  },
  {
   "cell_type": "markdown",
   "id": "28fb4fcb-ed01-4909-a00f-169735cc7594",
   "metadata": {},
   "source": [
    "### Считываем данные из документов в папке documents и создаем список документов"
   ]
  },
  {
   "cell_type": "code",
   "execution_count": 4,
   "id": "c6f106ab-8d74-406a-9f38-fbe96eac72c2",
   "metadata": {},
   "outputs": [],
   "source": [
    "doc_files = glob.glob('/home/ashneider/mount/simple_RAG_chatbot/documents/*.txt')\n",
    "doc_text = []\n",
    "for file_name in doc_files:\n",
    "    file_data = open(file_name, \"r\").read()\n",
    "    doc_text.append(file_data)"
   ]
  },
  {
   "cell_type": "code",
   "execution_count": 5,
   "id": "976231ad-0b36-4a25-a658-0f6eb7e7e88a",
   "metadata": {},
   "outputs": [
    {
     "name": "stdout",
     "output_type": "stream",
     "text": [
      "['Инструкция по регистрации аккаунта на сервисе MyApp:\\n\\n### Шаг 1: Переход на веб-сайт MyApp\\n1. Откройте любой веб-браузер на вашем компьютере или мобильном устройстве.\\n2. Введите адрес MyApp в адресной строке браузера и нажмите Enter, чтобы перейти на сайт.\\n\\n### Шаг 2: Нахождение кнопки \"Регистрация\"\\n1. После загрузки сайта MyApp, просмотрите домашнюю страницу и найдите кнопку \"Регистрация\" или \"Создать аккаунт\". Обычно эта кнопка располагается в верхнем правом углу страницы или на главной странице.\\n\\n### Шаг 3: Заполнение регистрационной формы\\n1. Щелкните по кнопке \"Регистрация\". Вас перенаправит на страницу с регистрационной формой.\\n2. Заполните поля формы, предоставив необходимую информацию, такую как:\\n   - Имя пользователя: Уникальное имя, которое будет использоваться для входа на сервис.\\n   - Пароль: Безопасный пароль, состоящий из букв, цифр и специальных символов.\\n   - Адрес электронной почты: Действующий адрес электронной почты для подтверждения аккаунта.\\n   - Другие данные: Возможно, потребуется указать дополнительную информацию, такую как дата рождения, пол и т. д.\\n\\n### Шаг 4: Подтверждение регистрации\\n1. После заполнения всех полей формы, прочтите условия использования и политику конфиденциальности, если они доступны.\\n2. Если вы согласны с условиями, отметьте соответствующее поле или нажмите кнопку \"Согласен\" или \"Зарегистрироваться\".\\n3. Возможно, система отправит на ваш электронный адрес письмо с подтверждением. Откройте свою почту и следуйте инструкциям для завершения процесса регистрации.\\n\\n### Шаг 5: Вход в свой аккаунт\\n1. После успешной регистрации возвращайтесь на главную страницу MyApp.\\n2. Введите свое имя пользователя и пароль в соответствующие поля на странице входа.\\n3. Нажмите кнопку \"Войти\" или \"Вход\", чтобы войти в свой аккаунт.\\n\\nПоздравляю! Теперь у вас есть аккаунт на сервисе MyApp, и вы можете начать пользоваться его функциями. Не забудьте проверить свой профиль и настройки, чтобы убедиться, что все настроено по вашему вкусу.', 'Инструкция по оформлению заявки на отпуск:\\n\\n### Шаг 1: Переход на веб-сайт компании\\n1. Откройте любой веб-браузер на вашем компьютере или мобильном устройстве.\\n2. Введите адрес веб-сайта вашей компании в адресной строке браузера и нажмите Enter, чтобы перейти на сайт.\\n\\n### Шаг 2: Нахождение раздела \"Заявки на отпуск\"\\n1. После загрузки сайта, просмотрите меню или ленту новостей, чтобы найти раздел, связанный с отпусками или кадровыми вопросами.\\n2. Обычно этот раздел называется \"Заявки на отпуск\" или \"Кадровые процедуры\".\\n\\n### Шаг 3: Заполнение формы заявки на отпуск\\n1. Перейдите в раздел \"Заявки на отпуск\" и найдите форму для заполнения заявки.\\n2. Заполните необходимые поля формы, включая:\\n   - Даты отпуска: Укажите даты начала и окончания отпуска.\\n   - Причина отпуска: Укажите причину вашего отпуска, например, отдых, личные дела и т. д.\\n   - Контактная информация: Укажите ваш номер телефона или адрес электронной почты для связи в случае необходимости.\\n   - Другие данные: Возможно, потребуется указать дополнительные сведения, такие как номер отдела или руководителя.\\n\\n### Шаг 4: Отправка заявки\\n1. После заполнения всех полей формы, прочтите условия и правила отпуска, если они доступны.\\n2. Если вы согласны с условиями, нажмите кнопку \"Отправить\" или \"Отправить заявку\".\\n3. Убедитесь, что вы получили подтверждение отправки заявки или номер подтверждения для отслеживания вашего запроса.\\n\\n### Шаг 5: Ожидание одобрения\\n1. После отправки заявки ожидайте ее рассмотрения и одобрения вашим руководителем или отделом кадров.\\n2. В случае необходимости, будьте готовы предоставить дополнительную информацию или ответить на вопросы.\\n\\n### Шаг 6: Получение уведомления о статусе заявки\\n1. После рассмотрения заявки вы получите уведомление о ее статусе.\\n2. Если ваша заявка одобрена, вам сообщат даты вашего отпуска и другие необходимые инструкции.\\n3. Если ваша заявка не одобрена, вам также сообщат причины отказа.\\n\\nПоздравляю! Теперь вы успешно оформили заявку на отпуск. Не забудьте планировать свои дела и наслаждаться заслуженным отдыхом!']\n"
     ]
    }
   ],
   "source": [
    "print([doc for doc in doc_text])"
   ]
  },
  {
   "cell_type": "markdown",
   "id": "c29a8dc2-1fee-4f5e-b0a2-e5e154fbadd6",
   "metadata": {},
   "source": [
    "### Получаем embedding-и данных из документов"
   ]
  },
  {
   "cell_type": "code",
   "execution_count": 6,
   "id": "be52228f-436e-4698-abfb-4a26f8c37cbe",
   "metadata": {},
   "outputs": [],
   "source": [
    "doc_embeddings = []\n",
    "for t in doc_text:\n",
    "    doc_embeddings.append(json.loads(embed_doc(t))[\"embedding\"])"
   ]
  },
  {
   "cell_type": "markdown",
   "id": "e09e33bc-8569-42c1-bef7-555b3d6dfa3d",
   "metadata": {},
   "source": [
    "### Добавляем embeddings в СromaDB"
   ]
  },
  {
   "cell_type": "code",
   "execution_count": 10,
   "id": "9f67efb2-aaf0-4724-9b3d-e4a72b308af6",
   "metadata": {},
   "outputs": [],
   "source": [
    "client = chromadb.Client()\n",
    "\n",
    "collection = client.get_or_create_collection(name=\"InternalDocs\")\n",
    "collection.add(\n",
    "    embeddings = doc_embeddings,\n",
    "    documents = [doc_text[0], doc_text[1]],\n",
    "    metadatas = [{\"source\": \"register_account\"},{\"source\": \"vocation_request\"}],\n",
    "    ids = [\"id1\", \"id2\"]\n",
    ")"
   ]
  },
  {
   "cell_type": "code",
   "execution_count": 11,
   "id": "83b9e105-1d28-40fa-9a79-0c10a8ea043f",
   "metadata": {},
   "outputs": [],
   "source": [
    "#client.delete_collection(\"InternalDocs\")"
   ]
  },
  {
   "cell_type": "markdown",
   "id": "cb03cec7-c10e-4121-b123-723cf54467b2",
   "metadata": {},
   "source": [
    "### Создаем embedding вектор для запроса к БД и используем его для поиска документа"
   ]
  },
  {
   "cell_type": "code",
   "execution_count": 12,
   "id": "82e54871-667f-4c23-ae13-5e8f9fa338f2",
   "metadata": {},
   "outputs": [
    {
     "name": "stdout",
     "output_type": "stream",
     "text": [
      "{'ids': [['id1']], 'distances': [[1.1652776002883911]], 'metadatas': [[{'source': 'register_account'}]], 'embeddings': None, 'documents': [['Инструкция по регистрации аккаунта на сервисе MyApp:\\n\\n### Шаг 1: Переход на веб-сайт MyApp\\n1. Откройте любой веб-браузер на вашем компьютере или мобильном устройстве.\\n2. Введите адрес MyApp в адресной строке браузера и нажмите Enter, чтобы перейти на сайт.\\n\\n### Шаг 2: Нахождение кнопки \"Регистрация\"\\n1. После загрузки сайта MyApp, просмотрите домашнюю страницу и найдите кнопку \"Регистрация\" или \"Создать аккаунт\". Обычно эта кнопка располагается в верхнем правом углу страницы или на главной странице.\\n\\n### Шаг 3: Заполнение регистрационной формы\\n1. Щелкните по кнопке \"Регистрация\". Вас перенаправит на страницу с регистрационной формой.\\n2. Заполните поля формы, предоставив необходимую информацию, такую как:\\n   - Имя пользователя: Уникальное имя, которое будет использоваться для входа на сервис.\\n   - Пароль: Безопасный пароль, состоящий из букв, цифр и специальных символов.\\n   - Адрес электронной почты: Действующий адрес электронной почты для подтверждения аккаунта.\\n   - Другие данные: Возможно, потребуется указать дополнительную информацию, такую как дата рождения, пол и т. д.\\n\\n### Шаг 4: Подтверждение регистрации\\n1. После заполнения всех полей формы, прочтите условия использования и политику конфиденциальности, если они доступны.\\n2. Если вы согласны с условиями, отметьте соответствующее поле или нажмите кнопку \"Согласен\" или \"Зарегистрироваться\".\\n3. Возможно, система отправит на ваш электронный адрес письмо с подтверждением. Откройте свою почту и следуйте инструкциям для завершения процесса регистрации.\\n\\n### Шаг 5: Вход в свой аккаунт\\n1. После успешной регистрации возвращайтесь на главную страницу MyApp.\\n2. Введите свое имя пользователя и пароль в соответствующие поля на странице входа.\\n3. Нажмите кнопку \"Войти\" или \"Вход\", чтобы войти в свой аккаунт.\\n\\nПоздравляю! Теперь у вас есть аккаунт на сервисе MyApp, и вы можете начать пользоваться его функциями. Не забудьте проверить свой профиль и настройки, чтобы убедиться, что все настроено по вашему вкусу.']], 'uris': None, 'data': None}\n"
     ]
    }
   ],
   "source": [
    "question_embedding = json.loads(embed_query(\"Как зарегестрировать аккаунт?\"))[\"embedding\"]\n",
    "\n",
    "result = collection.query(\n",
    "    query_embeddings=question_embedding,\n",
    "    n_results=1\n",
    ")\n",
    "\n",
    "print(result)"
   ]
  },
  {
   "cell_type": "code",
   "execution_count": null,
   "id": "4038ade4-e5ca-49c3-9cce-6e47f504623e",
   "metadata": {},
   "outputs": [],
   "source": []
  }
 ],
 "metadata": {
  "kernelspec": {
   "display_name": "Python 3 (ipykernel)",
   "language": "python",
   "name": "python3"
  },
  "language_info": {
   "codemirror_mode": {
    "name": "ipython",
    "version": 3
   },
   "file_extension": ".py",
   "mimetype": "text/x-python",
   "name": "python",
   "nbconvert_exporter": "python",
   "pygments_lexer": "ipython3",
   "version": "3.11.4"
  }
 },
 "nbformat": 4,
 "nbformat_minor": 5
}
