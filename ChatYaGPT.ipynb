{
 "cells": [
  {
   "cell_type": "code",
   "execution_count": 1,
   "id": "068e30a4-07de-4707-aad9-6ddf76bce30c",
   "metadata": {},
   "outputs": [
    {
     "name": "stdout",
     "output_type": "stream",
     "text": [
      "Requirement already satisfied: openai in /opt/conda/lib/python3.11/site-packages (from -r requirements.txt (line 1)) (1.14.1)\n",
      "Requirement already satisfied: python-dotenv in /opt/conda/lib/python3.11/site-packages (from -r requirements.txt (line 2)) (1.0.1)\n",
      "Requirement already satisfied: anyio<5,>=3.5.0 in /opt/conda/lib/python3.11/site-packages (from openai->-r requirements.txt (line 1)) (3.7.0)\n",
      "Requirement already satisfied: distro<2,>=1.7.0 in /opt/conda/lib/python3.11/site-packages (from openai->-r requirements.txt (line 1)) (1.9.0)\n",
      "Requirement already satisfied: httpx<1,>=0.23.0 in /opt/conda/lib/python3.11/site-packages (from openai->-r requirements.txt (line 1)) (0.27.0)\n",
      "Requirement already satisfied: pydantic<3,>=1.9.0 in /opt/conda/lib/python3.11/site-packages (from openai->-r requirements.txt (line 1)) (2.6.4)\n",
      "Requirement already satisfied: sniffio in /opt/conda/lib/python3.11/site-packages (from openai->-r requirements.txt (line 1)) (1.3.0)\n",
      "Requirement already satisfied: tqdm>4 in /opt/conda/lib/python3.11/site-packages (from openai->-r requirements.txt (line 1)) (4.65.0)\n",
      "Requirement already satisfied: typing-extensions<5,>=4.7 in /opt/conda/lib/python3.11/site-packages (from openai->-r requirements.txt (line 1)) (4.10.0)\n",
      "Requirement already satisfied: idna>=2.8 in /opt/conda/lib/python3.11/site-packages (from anyio<5,>=3.5.0->openai->-r requirements.txt (line 1)) (3.4)\n",
      "Requirement already satisfied: certifi in /opt/conda/lib/python3.11/site-packages (from httpx<1,>=0.23.0->openai->-r requirements.txt (line 1)) (2023.5.7)\n",
      "Requirement already satisfied: httpcore==1.* in /opt/conda/lib/python3.11/site-packages (from httpx<1,>=0.23.0->openai->-r requirements.txt (line 1)) (1.0.4)\n",
      "Requirement already satisfied: h11<0.15,>=0.13 in /opt/conda/lib/python3.11/site-packages (from httpcore==1.*->httpx<1,>=0.23.0->openai->-r requirements.txt (line 1)) (0.14.0)\n",
      "Requirement already satisfied: annotated-types>=0.4.0 in /opt/conda/lib/python3.11/site-packages (from pydantic<3,>=1.9.0->openai->-r requirements.txt (line 1)) (0.6.0)\n",
      "Requirement already satisfied: pydantic-core==2.16.3 in /opt/conda/lib/python3.11/site-packages (from pydantic<3,>=1.9.0->openai->-r requirements.txt (line 1)) (2.16.3)\n"
     ]
    }
   ],
   "source": [
    "!pip install -r requirements.txt"
   ]
  },
  {
   "cell_type": "code",
   "execution_count": 2,
   "id": "21be7ca1-0c86-4d58-9ce6-833886b9e693",
   "metadata": {},
   "outputs": [],
   "source": [
    "import requests\n",
    "import json\n",
    "import dotenv\n",
    "import os"
   ]
  },
  {
   "cell_type": "code",
   "execution_count": 3,
   "id": "7e1432ea-fb46-4226-90f3-d72d5453fe2b",
   "metadata": {},
   "outputs": [],
   "source": [
    "%reload_ext dotenv\n",
    "%dotenv"
   ]
  },
  {
   "cell_type": "code",
   "execution_count": 14,
   "id": "0677a67a-4ca3-47b3-bc79-1df78fad7c4b",
   "metadata": {},
   "outputs": [],
   "source": [
    "def gpt(auth_headers):\n",
    "    # YandexGPT API access point\n",
    "    url = \"https://llm.api.cloud.yandex.net/foundationModels/v1/completion\"\n",
    "    \n",
    "    with open('body.txt', 'r', encoding='utf-8') as f:\n",
    "        # first step (json.load()): from file to python dict/list, \n",
    "        # second step (json.dumps()): from python dict/list to json string\n",
    "        data = json.dumps(json.load(f)) \n",
    "    # send POST request and save answer to resp\n",
    "    resp = requests.post(url, headers=auth_headers, data=data) \n",
    "\n",
    "    # check answer status code\n",
    "    if resp.status_code != 200: \n",
    "        raise RuntimeError(\n",
    "            'Invalid response received: code: {}, message: {}'.format(\n",
    "                {resp.status_code}, {resp.text}\n",
    "            )\n",
    "        )\n",
    "        \n",
    "    resp_dict = json.loads(resp.text)\n",
    "    answer = resp_dict[\"result\"][\"alternatives\"][0][\"message\"][\"text\"]\n",
    "\n",
    "    # return answers text\n",
    "    return answer"
   ]
  },
  {
   "cell_type": "code",
   "execution_count": 15,
   "id": "369dd70d-c785-4ec1-9014-a04cbf09656b",
   "metadata": {},
   "outputs": [
    {
     "name": "stdout",
     "output_type": "stream",
     "text": [
      "Для того, чтобы приготовить шакшуку, вам понадобятся следующие ингредиенты:\n",
      "\n",
      "* 4 яйца;\n",
      "* 1 луковица;\n",
      "* 2 зубчика чеснока;\n",
      "* 300 г помидоров;\n",
      "* соль, перец, специи по вкусу;\n",
      "* оливковое масло.\n",
      "\n",
      "**Приготовление:**\n",
      "1. Нарежьте лук и чеснок мелкими кубиками.\n",
      "2. Нагрейте сковороду с оливковым маслом и обжарьте лук и чеснок до золотистого цвета.\n",
      "3. Добавьте нарезанные кубиками помидоры, тушите 5 минут.\n",
      "4. Сделайте в смеси из лука и помидоров небольшие углубления и разбейте в них яйца.\n",
      "5. Готовьте яичницу на медленном огне, пока белки не станут белыми, а желтки ещё будут жидкими.\n",
      "6. Приправьте солью, перцем и специями по вкусу.\n",
      "7. Снимите шакшуку с огня и подавайте на тарелке, украсив зеленью.\n",
      "\n",
      "Приятного аппетита!\n",
      "\n",
      "**Важно:** Количество и соотношение ингредиентов могут быть изменены в зависимости от ваших предпочтений. Также, для приготовления шакшуки можно использовать различные специи, такие как паприка, зира, кориандр и другие.\n"
     ]
    }
   ],
   "source": [
    "api_key = os.getenv('YAGPT_API_KEY')\n",
    "headers = {\n",
    "    'Authorization': f'Api-Key {api_key}',\n",
    "}\n",
    "print(gpt(headers))"
   ]
  },
  {
   "cell_type": "code",
   "execution_count": null,
   "id": "05cbe282-44e7-47b6-9266-47886e87c6ec",
   "metadata": {},
   "outputs": [],
   "source": []
  }
 ],
 "metadata": {
  "kernelspec": {
   "display_name": "Python 3 (ipykernel)",
   "language": "python",
   "name": "python3"
  },
  "language_info": {
   "codemirror_mode": {
    "name": "ipython",
    "version": 3
   },
   "file_extension": ".py",
   "mimetype": "text/x-python",
   "name": "python",
   "nbconvert_exporter": "python",
   "pygments_lexer": "ipython3",
   "version": "3.11.4"
  }
 },
 "nbformat": 4,
 "nbformat_minor": 5
}
