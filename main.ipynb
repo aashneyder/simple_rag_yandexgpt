{
 "cells": [
  {
   "cell_type": "code",
   "execution_count": 1,
   "id": "025b1759-a22d-479c-9279-0fda163b8f12",
   "metadata": {
    "collapsed": true,
    "jupyter": {
     "outputs_hidden": true
    },
    "scrolled": true
   },
   "outputs": [
    {
     "name": "stdout",
     "output_type": "stream",
     "text": [
      "Requirement already satisfied: openai in /opt/conda/lib/python3.11/site-packages (from -r requirements.txt (line 1)) (1.14.1)\n",
      "Requirement already satisfied: python-dotenv in /opt/conda/lib/python3.11/site-packages (from -r requirements.txt (line 2)) (1.0.1)\n",
      "Requirement already satisfied: chromadb in /opt/conda/lib/python3.11/site-packages (from -r requirements.txt (line 3)) (0.4.24)\n",
      "Requirement already satisfied: langchain-chroma in /opt/conda/lib/python3.11/site-packages (from -r requirements.txt (line 4)) (0.1.0)\n",
      "Requirement already satisfied: langchain[all] in /opt/conda/lib/python3.11/site-packages (from -r requirements.txt (line 5)) (0.1.12)\n",
      "Requirement already satisfied: anyio<5,>=3.5.0 in /opt/conda/lib/python3.11/site-packages (from openai->-r requirements.txt (line 1)) (3.7.0)\n",
      "Requirement already satisfied: distro<2,>=1.7.0 in /opt/conda/lib/python3.11/site-packages (from openai->-r requirements.txt (line 1)) (1.9.0)\n",
      "Requirement already satisfied: httpx<1,>=0.23.0 in /opt/conda/lib/python3.11/site-packages (from openai->-r requirements.txt (line 1)) (0.27.0)\n",
      "Requirement already satisfied: pydantic<3,>=1.9.0 in /opt/conda/lib/python3.11/site-packages (from openai->-r requirements.txt (line 1)) (2.6.4)\n",
      "Requirement already satisfied: sniffio in /opt/conda/lib/python3.11/site-packages (from openai->-r requirements.txt (line 1)) (1.3.0)\n",
      "Requirement already satisfied: tqdm>4 in /opt/conda/lib/python3.11/site-packages (from openai->-r requirements.txt (line 1)) (4.65.0)\n",
      "Requirement already satisfied: typing-extensions<5,>=4.7 in /opt/conda/lib/python3.11/site-packages (from openai->-r requirements.txt (line 1)) (4.10.0)\n",
      "Requirement already satisfied: build>=1.0.3 in /opt/conda/lib/python3.11/site-packages (from chromadb->-r requirements.txt (line 3)) (1.2.1)\n",
      "Requirement already satisfied: requests>=2.28 in /opt/conda/lib/python3.11/site-packages (from chromadb->-r requirements.txt (line 3)) (2.31.0)\n",
      "Requirement already satisfied: chroma-hnswlib==0.7.3 in /opt/conda/lib/python3.11/site-packages (from chromadb->-r requirements.txt (line 3)) (0.7.3)\n",
      "Requirement already satisfied: fastapi>=0.95.2 in /opt/conda/lib/python3.11/site-packages (from chromadb->-r requirements.txt (line 3)) (0.110.1)\n",
      "Requirement already satisfied: uvicorn[standard]>=0.18.3 in /opt/conda/lib/python3.11/site-packages (from chromadb->-r requirements.txt (line 3)) (0.29.0)\n",
      "Requirement already satisfied: numpy>=1.22.5 in /opt/conda/lib/python3.11/site-packages (from chromadb->-r requirements.txt (line 3)) (1.26.4)\n",
      "Requirement already satisfied: posthog>=2.4.0 in /opt/conda/lib/python3.11/site-packages (from chromadb->-r requirements.txt (line 3)) (3.5.0)\n",
      "Requirement already satisfied: pulsar-client>=3.1.0 in /opt/conda/lib/python3.11/site-packages (from chromadb->-r requirements.txt (line 3)) (3.5.0)\n",
      "Requirement already satisfied: onnxruntime>=1.14.1 in /opt/conda/lib/python3.11/site-packages (from chromadb->-r requirements.txt (line 3)) (1.17.3)\n",
      "Requirement already satisfied: opentelemetry-api>=1.2.0 in /opt/conda/lib/python3.11/site-packages (from chromadb->-r requirements.txt (line 3)) (1.24.0)\n",
      "Requirement already satisfied: opentelemetry-exporter-otlp-proto-grpc>=1.2.0 in /opt/conda/lib/python3.11/site-packages (from chromadb->-r requirements.txt (line 3)) (1.24.0)\n",
      "Requirement already satisfied: opentelemetry-instrumentation-fastapi>=0.41b0 in /opt/conda/lib/python3.11/site-packages (from chromadb->-r requirements.txt (line 3)) (0.45b0)\n",
      "Requirement already satisfied: opentelemetry-sdk>=1.2.0 in /opt/conda/lib/python3.11/site-packages (from chromadb->-r requirements.txt (line 3)) (1.24.0)\n",
      "Requirement already satisfied: tokenizers>=0.13.2 in /opt/conda/lib/python3.11/site-packages (from chromadb->-r requirements.txt (line 3)) (0.15.2)\n",
      "Requirement already satisfied: pypika>=0.48.9 in /opt/conda/lib/python3.11/site-packages (from chromadb->-r requirements.txt (line 3)) (0.48.9)\n",
      "Requirement already satisfied: overrides>=7.3.1 in /opt/conda/lib/python3.11/site-packages (from chromadb->-r requirements.txt (line 3)) (7.3.1)\n",
      "Requirement already satisfied: importlib-resources in /opt/conda/lib/python3.11/site-packages (from chromadb->-r requirements.txt (line 3)) (5.12.0)\n",
      "Requirement already satisfied: grpcio>=1.58.0 in /opt/conda/lib/python3.11/site-packages (from chromadb->-r requirements.txt (line 3)) (1.62.1)\n",
      "Requirement already satisfied: bcrypt>=4.0.1 in /opt/conda/lib/python3.11/site-packages (from chromadb->-r requirements.txt (line 3)) (4.1.2)\n",
      "Requirement already satisfied: typer>=0.9.0 in /opt/conda/lib/python3.11/site-packages (from chromadb->-r requirements.txt (line 3)) (0.12.3)\n",
      "Requirement already satisfied: kubernetes>=28.1.0 in /opt/conda/lib/python3.11/site-packages (from chromadb->-r requirements.txt (line 3)) (29.0.0)\n",
      "Requirement already satisfied: tenacity>=8.2.3 in /opt/conda/lib/python3.11/site-packages (from chromadb->-r requirements.txt (line 3)) (8.2.3)\n",
      "Requirement already satisfied: PyYAML>=6.0.0 in /opt/conda/lib/python3.11/site-packages (from chromadb->-r requirements.txt (line 3)) (6.0)\n",
      "Requirement already satisfied: mmh3>=4.0.1 in /opt/conda/lib/python3.11/site-packages (from chromadb->-r requirements.txt (line 3)) (4.1.0)\n",
      "Requirement already satisfied: orjson>=3.9.12 in /opt/conda/lib/python3.11/site-packages (from chromadb->-r requirements.txt (line 3)) (3.9.15)\n",
      "Requirement already satisfied: langchain-core<0.2.0,>=0.1.40 in /opt/conda/lib/python3.11/site-packages (from langchain-chroma->-r requirements.txt (line 4)) (0.1.43)\n",
      "Requirement already satisfied: SQLAlchemy<3,>=1.4 in /opt/conda/lib/python3.11/site-packages (from langchain[all]->-r requirements.txt (line 5)) (2.0.17)\n",
      "Requirement already satisfied: aiohttp<4.0.0,>=3.8.3 in /opt/conda/lib/python3.11/site-packages (from langchain[all]->-r requirements.txt (line 5)) (3.9.3)\n",
      "Requirement already satisfied: dataclasses-json<0.7,>=0.5.7 in /opt/conda/lib/python3.11/site-packages (from langchain[all]->-r requirements.txt (line 5)) (0.6.4)\n",
      "Requirement already satisfied: jsonpatch<2.0,>=1.33 in /opt/conda/lib/python3.11/site-packages (from langchain[all]->-r requirements.txt (line 5)) (1.33)\n",
      "Requirement already satisfied: langchain-community<0.1,>=0.0.28 in /opt/conda/lib/python3.11/site-packages (from langchain[all]->-r requirements.txt (line 5)) (0.0.28)\n",
      "Requirement already satisfied: langchain-text-splitters<0.1,>=0.0.1 in /opt/conda/lib/python3.11/site-packages (from langchain[all]->-r requirements.txt (line 5)) (0.0.1)\n",
      "Requirement already satisfied: langsmith<0.2.0,>=0.1.17 in /opt/conda/lib/python3.11/site-packages (from langchain[all]->-r requirements.txt (line 5)) (0.1.29)\n",
      "Requirement already satisfied: aiosignal>=1.1.2 in /opt/conda/lib/python3.11/site-packages (from aiohttp<4.0.0,>=3.8.3->langchain[all]->-r requirements.txt (line 5)) (1.3.1)\n",
      "Requirement already satisfied: attrs>=17.3.0 in /opt/conda/lib/python3.11/site-packages (from aiohttp<4.0.0,>=3.8.3->langchain[all]->-r requirements.txt (line 5)) (23.1.0)\n",
      "Requirement already satisfied: frozenlist>=1.1.1 in /opt/conda/lib/python3.11/site-packages (from aiohttp<4.0.0,>=3.8.3->langchain[all]->-r requirements.txt (line 5)) (1.4.1)\n",
      "Requirement already satisfied: multidict<7.0,>=4.5 in /opt/conda/lib/python3.11/site-packages (from aiohttp<4.0.0,>=3.8.3->langchain[all]->-r requirements.txt (line 5)) (6.0.5)\n",
      "Requirement already satisfied: yarl<2.0,>=1.0 in /opt/conda/lib/python3.11/site-packages (from aiohttp<4.0.0,>=3.8.3->langchain[all]->-r requirements.txt (line 5)) (1.9.4)\n",
      "Requirement already satisfied: idna>=2.8 in /opt/conda/lib/python3.11/site-packages (from anyio<5,>=3.5.0->openai->-r requirements.txt (line 1)) (3.4)\n",
      "Requirement already satisfied: packaging>=19.1 in /opt/conda/lib/python3.11/site-packages (from build>=1.0.3->chromadb->-r requirements.txt (line 3)) (23.2)\n",
      "Requirement already satisfied: pyproject_hooks in /opt/conda/lib/python3.11/site-packages (from build>=1.0.3->chromadb->-r requirements.txt (line 3)) (1.0.0)\n",
      "Requirement already satisfied: marshmallow<4.0.0,>=3.18.0 in /opt/conda/lib/python3.11/site-packages (from dataclasses-json<0.7,>=0.5.7->langchain[all]->-r requirements.txt (line 5)) (3.21.1)\n",
      "Requirement already satisfied: typing-inspect<1,>=0.4.0 in /opt/conda/lib/python3.11/site-packages (from dataclasses-json<0.7,>=0.5.7->langchain[all]->-r requirements.txt (line 5)) (0.9.0)\n",
      "Requirement already satisfied: starlette<0.38.0,>=0.37.2 in /opt/conda/lib/python3.11/site-packages (from fastapi>=0.95.2->chromadb->-r requirements.txt (line 3)) (0.37.2)\n",
      "Requirement already satisfied: certifi in /opt/conda/lib/python3.11/site-packages (from httpx<1,>=0.23.0->openai->-r requirements.txt (line 1)) (2023.5.7)\n",
      "Requirement already satisfied: httpcore==1.* in /opt/conda/lib/python3.11/site-packages (from httpx<1,>=0.23.0->openai->-r requirements.txt (line 1)) (1.0.4)\n",
      "Requirement already satisfied: h11<0.15,>=0.13 in /opt/conda/lib/python3.11/site-packages (from httpcore==1.*->httpx<1,>=0.23.0->openai->-r requirements.txt (line 1)) (0.14.0)\n",
      "Requirement already satisfied: jsonpointer>=1.9 in /opt/conda/lib/python3.11/site-packages (from jsonpatch<2.0,>=1.33->langchain[all]->-r requirements.txt (line 5)) (2.0)\n",
      "Requirement already satisfied: six>=1.9.0 in /opt/conda/lib/python3.11/site-packages (from kubernetes>=28.1.0->chromadb->-r requirements.txt (line 3)) (1.16.0)\n",
      "Requirement already satisfied: python-dateutil>=2.5.3 in /opt/conda/lib/python3.11/site-packages (from kubernetes>=28.1.0->chromadb->-r requirements.txt (line 3)) (2.8.2)\n",
      "Requirement already satisfied: google-auth>=1.0.1 in /opt/conda/lib/python3.11/site-packages (from kubernetes>=28.1.0->chromadb->-r requirements.txt (line 3)) (2.29.0)\n",
      "Requirement already satisfied: websocket-client!=0.40.0,!=0.41.*,!=0.42.*,>=0.32.0 in /opt/conda/lib/python3.11/site-packages (from kubernetes>=28.1.0->chromadb->-r requirements.txt (line 3)) (1.6.1)\n",
      "Requirement already satisfied: requests-oauthlib in /opt/conda/lib/python3.11/site-packages (from kubernetes>=28.1.0->chromadb->-r requirements.txt (line 3)) (2.0.0)\n",
      "Requirement already satisfied: oauthlib>=3.2.2 in /opt/conda/lib/python3.11/site-packages (from kubernetes>=28.1.0->chromadb->-r requirements.txt (line 3)) (3.2.2)\n",
      "Requirement already satisfied: urllib3>=1.24.2 in /opt/conda/lib/python3.11/site-packages (from kubernetes>=28.1.0->chromadb->-r requirements.txt (line 3)) (2.0.3)\n",
      "Requirement already satisfied: coloredlogs in /opt/conda/lib/python3.11/site-packages (from onnxruntime>=1.14.1->chromadb->-r requirements.txt (line 3)) (15.0.1)\n",
      "Requirement already satisfied: flatbuffers in /opt/conda/lib/python3.11/site-packages (from onnxruntime>=1.14.1->chromadb->-r requirements.txt (line 3)) (24.3.25)\n",
      "Requirement already satisfied: protobuf in /opt/conda/lib/python3.11/site-packages (from onnxruntime>=1.14.1->chromadb->-r requirements.txt (line 3)) (4.25.3)\n",
      "Requirement already satisfied: sympy in /opt/conda/lib/python3.11/site-packages (from onnxruntime>=1.14.1->chromadb->-r requirements.txt (line 3)) (1.12)\n",
      "Requirement already satisfied: deprecated>=1.2.6 in /opt/conda/lib/python3.11/site-packages (from opentelemetry-api>=1.2.0->chromadb->-r requirements.txt (line 3)) (1.2.14)\n",
      "Requirement already satisfied: importlib-metadata<=7.0,>=6.0 in /opt/conda/lib/python3.11/site-packages (from opentelemetry-api>=1.2.0->chromadb->-r requirements.txt (line 3)) (6.7.0)\n",
      "Requirement already satisfied: googleapis-common-protos~=1.52 in /opt/conda/lib/python3.11/site-packages (from opentelemetry-exporter-otlp-proto-grpc>=1.2.0->chromadb->-r requirements.txt (line 3)) (1.63.0)\n",
      "Requirement already satisfied: opentelemetry-exporter-otlp-proto-common==1.24.0 in /opt/conda/lib/python3.11/site-packages (from opentelemetry-exporter-otlp-proto-grpc>=1.2.0->chromadb->-r requirements.txt (line 3)) (1.24.0)\n",
      "Requirement already satisfied: opentelemetry-proto==1.24.0 in /opt/conda/lib/python3.11/site-packages (from opentelemetry-exporter-otlp-proto-grpc>=1.2.0->chromadb->-r requirements.txt (line 3)) (1.24.0)\n",
      "Requirement already satisfied: opentelemetry-instrumentation-asgi==0.45b0 in /opt/conda/lib/python3.11/site-packages (from opentelemetry-instrumentation-fastapi>=0.41b0->chromadb->-r requirements.txt (line 3)) (0.45b0)\n",
      "Requirement already satisfied: opentelemetry-instrumentation==0.45b0 in /opt/conda/lib/python3.11/site-packages (from opentelemetry-instrumentation-fastapi>=0.41b0->chromadb->-r requirements.txt (line 3)) (0.45b0)\n",
      "Requirement already satisfied: opentelemetry-semantic-conventions==0.45b0 in /opt/conda/lib/python3.11/site-packages (from opentelemetry-instrumentation-fastapi>=0.41b0->chromadb->-r requirements.txt (line 3)) (0.45b0)\n",
      "Requirement already satisfied: opentelemetry-util-http==0.45b0 in /opt/conda/lib/python3.11/site-packages (from opentelemetry-instrumentation-fastapi>=0.41b0->chromadb->-r requirements.txt (line 3)) (0.45b0)\n",
      "Requirement already satisfied: setuptools>=16.0 in /opt/conda/lib/python3.11/site-packages (from opentelemetry-instrumentation==0.45b0->opentelemetry-instrumentation-fastapi>=0.41b0->chromadb->-r requirements.txt (line 3)) (68.0.0)\n",
      "Requirement already satisfied: wrapt<2.0.0,>=1.0.0 in /opt/conda/lib/python3.11/site-packages (from opentelemetry-instrumentation==0.45b0->opentelemetry-instrumentation-fastapi>=0.41b0->chromadb->-r requirements.txt (line 3)) (1.16.0)\n",
      "Requirement already satisfied: asgiref~=3.0 in /opt/conda/lib/python3.11/site-packages (from opentelemetry-instrumentation-asgi==0.45b0->opentelemetry-instrumentation-fastapi>=0.41b0->chromadb->-r requirements.txt (line 3)) (3.8.1)\n",
      "Requirement already satisfied: monotonic>=1.5 in /opt/conda/lib/python3.11/site-packages (from posthog>=2.4.0->chromadb->-r requirements.txt (line 3)) (1.6)\n",
      "Requirement already satisfied: backoff>=1.10.0 in /opt/conda/lib/python3.11/site-packages (from posthog>=2.4.0->chromadb->-r requirements.txt (line 3)) (2.2.1)\n",
      "Requirement already satisfied: annotated-types>=0.4.0 in /opt/conda/lib/python3.11/site-packages (from pydantic<3,>=1.9.0->openai->-r requirements.txt (line 1)) (0.6.0)\n",
      "Requirement already satisfied: pydantic-core==2.16.3 in /opt/conda/lib/python3.11/site-packages (from pydantic<3,>=1.9.0->openai->-r requirements.txt (line 1)) (2.16.3)\n",
      "Requirement already satisfied: charset-normalizer<4,>=2 in /opt/conda/lib/python3.11/site-packages (from requests>=2.28->chromadb->-r requirements.txt (line 3)) (3.1.0)\n",
      "Requirement already satisfied: greenlet!=0.4.17 in /opt/conda/lib/python3.11/site-packages (from SQLAlchemy<3,>=1.4->langchain[all]->-r requirements.txt (line 5)) (2.0.2)\n",
      "Requirement already satisfied: huggingface_hub<1.0,>=0.16.4 in /opt/conda/lib/python3.11/site-packages (from tokenizers>=0.13.2->chromadb->-r requirements.txt (line 3)) (0.22.2)\n",
      "Requirement already satisfied: click>=8.0.0 in /opt/conda/lib/python3.11/site-packages (from typer>=0.9.0->chromadb->-r requirements.txt (line 3)) (8.1.7)\n",
      "Requirement already satisfied: shellingham>=1.3.0 in /opt/conda/lib/python3.11/site-packages (from typer>=0.9.0->chromadb->-r requirements.txt (line 3)) (1.5.4)\n",
      "Requirement already satisfied: rich>=10.11.0 in /opt/conda/lib/python3.11/site-packages (from typer>=0.9.0->chromadb->-r requirements.txt (line 3)) (13.7.1)\n",
      "Requirement already satisfied: httptools>=0.5.0 in /opt/conda/lib/python3.11/site-packages (from uvicorn[standard]>=0.18.3->chromadb->-r requirements.txt (line 3)) (0.6.1)\n",
      "Requirement already satisfied: uvloop!=0.15.0,!=0.15.1,>=0.14.0 in /opt/conda/lib/python3.11/site-packages (from uvicorn[standard]>=0.18.3->chromadb->-r requirements.txt (line 3)) (0.19.0)\n",
      "Requirement already satisfied: watchfiles>=0.13 in /opt/conda/lib/python3.11/site-packages (from uvicorn[standard]>=0.18.3->chromadb->-r requirements.txt (line 3)) (0.21.0)\n",
      "Requirement already satisfied: websockets>=10.4 in /opt/conda/lib/python3.11/site-packages (from uvicorn[standard]>=0.18.3->chromadb->-r requirements.txt (line 3)) (12.0)\n",
      "Requirement already satisfied: cachetools<6.0,>=2.0.0 in /opt/conda/lib/python3.11/site-packages (from google-auth>=1.0.1->kubernetes>=28.1.0->chromadb->-r requirements.txt (line 3)) (5.3.3)\n",
      "Requirement already satisfied: pyasn1-modules>=0.2.1 in /opt/conda/lib/python3.11/site-packages (from google-auth>=1.0.1->kubernetes>=28.1.0->chromadb->-r requirements.txt (line 3)) (0.4.0)\n",
      "Requirement already satisfied: rsa<5,>=3.1.4 in /opt/conda/lib/python3.11/site-packages (from google-auth>=1.0.1->kubernetes>=28.1.0->chromadb->-r requirements.txt (line 3)) (4.9)\n",
      "Requirement already satisfied: filelock in /opt/conda/lib/python3.11/site-packages (from huggingface_hub<1.0,>=0.16.4->tokenizers>=0.13.2->chromadb->-r requirements.txt (line 3)) (3.13.4)\n",
      "Requirement already satisfied: fsspec>=2023.5.0 in /opt/conda/lib/python3.11/site-packages (from huggingface_hub<1.0,>=0.16.4->tokenizers>=0.13.2->chromadb->-r requirements.txt (line 3)) (2024.3.1)\n",
      "Requirement already satisfied: zipp>=0.5 in /opt/conda/lib/python3.11/site-packages (from importlib-metadata<=7.0,>=6.0->opentelemetry-api>=1.2.0->chromadb->-r requirements.txt (line 3)) (3.15.0)\n",
      "Requirement already satisfied: markdown-it-py>=2.2.0 in /opt/conda/lib/python3.11/site-packages (from rich>=10.11.0->typer>=0.9.0->chromadb->-r requirements.txt (line 3)) (3.0.0)\n",
      "Requirement already satisfied: pygments<3.0.0,>=2.13.0 in /opt/conda/lib/python3.11/site-packages (from rich>=10.11.0->typer>=0.9.0->chromadb->-r requirements.txt (line 3)) (2.15.1)\n",
      "Requirement already satisfied: mypy-extensions>=0.3.0 in /opt/conda/lib/python3.11/site-packages (from typing-inspect<1,>=0.4.0->dataclasses-json<0.7,>=0.5.7->langchain[all]->-r requirements.txt (line 5)) (1.0.0)\n",
      "Requirement already satisfied: humanfriendly>=9.1 in /opt/conda/lib/python3.11/site-packages (from coloredlogs->onnxruntime>=1.14.1->chromadb->-r requirements.txt (line 3)) (10.0)\n",
      "Requirement already satisfied: mpmath>=0.19 in /opt/conda/lib/python3.11/site-packages (from sympy->onnxruntime>=1.14.1->chromadb->-r requirements.txt (line 3)) (1.3.0)\n",
      "Requirement already satisfied: mdurl~=0.1 in /opt/conda/lib/python3.11/site-packages (from markdown-it-py>=2.2.0->rich>=10.11.0->typer>=0.9.0->chromadb->-r requirements.txt (line 3)) (0.1.2)\n",
      "Requirement already satisfied: pyasn1<0.7.0,>=0.4.6 in /opt/conda/lib/python3.11/site-packages (from pyasn1-modules>=0.2.1->google-auth>=1.0.1->kubernetes>=28.1.0->chromadb->-r requirements.txt (line 3)) (0.6.0)\n"
     ]
    }
   ],
   "source": [
    "!pip install -r requirements.txt"
   ]
  },
  {
   "cell_type": "code",
   "execution_count": 3,
   "id": "289c4854-528d-4741-8558-ffe41bd7b466",
   "metadata": {},
   "outputs": [],
   "source": [
    "import os\n",
    "\n",
    "from langchain_community.document_loaders import TextLoader\n",
    "from langchain.chains import StuffDocumentsChain, LLMChain\n",
    "from langchain_core.prompts import PromptTemplate\n",
    "from langchain.chains import LLMChain\n",
    "\n",
    "%run YandexLLM.ipynb\n",
    "%reload_ext dotenv\n",
    "%dotenv\n",
    "    \n",
    "api_key = os.getenv('YAGPT_API_KEY')\n",
    "folder_id = os.getenv('YA_FOLDER_ID')"
   ]
  },
  {
   "cell_type": "markdown",
   "id": "6a8a654d-4a1d-414e-8695-636adf3293f4",
   "metadata": {},
   "source": [
    "### Загрузка текстового документа из директории и создание вопроса по документу"
   ]
  },
  {
   "cell_type": "code",
   "execution_count": 14,
   "id": "f97a01fa-9f26-4b41-bceb-641a59d00f62",
   "metadata": {},
   "outputs": [
    {
     "name": "stdout",
     "output_type": "stream",
     "text": [
      "<class 'list'>\n",
      "1\n",
      "<class 'langchain_core.documents.base.Document'>\n",
      "[Document(page_content='Инструкция по регистрации аккаунта на сервисе MyApp:\\n\\n### Шаг 1: Переход на веб-сайт MyApp\\n1. Откройте любой веб-браузер на вашем компьютере или мобильном устройстве.\\n2. Введите адрес MyApp в адресной строке браузера и нажмите Enter, чтобы перейти на сайт.\\n\\n### Шаг 2: Нахождение кнопки \"Регистрация\"\\n1. После загрузки сайта MyApp, просмотрите домашнюю страницу и найдите кнопку \"Регистрация\" или \"Создать аккаунт\". Обычно эта кнопка располагается в верхнем правом углу страницы или на главной странице.\\n\\n### Шаг 3: Заполнение регистрационной формы\\n1. Щелкните по кнопке \"Регистрация\". Вас перенаправит на страницу с регистрационной формой.\\n2. Заполните поля формы, предоставив необходимую информацию, такую как:\\n   - Имя пользователя: Уникальное имя, которое будет использоваться для входа на сервис.\\n   - Пароль: Безопасный пароль, состоящий из букв, цифр и специальных символов.\\n   - Адрес электронной почты: Действующий адрес электронной почты для подтверждения аккаунта.\\n   - Другие данные: Возможно, потребуется указать дополнительную информацию, такую как дата рождения, пол и т. д.\\n\\n### Шаг 4: Подтверждение регистрации\\n1. После заполнения всех полей формы, прочтите условия использования и политику конфиденциальности, если они доступны.\\n2. Если вы согласны с условиями, отметьте соответствующее поле или нажмите кнопку \"Согласен\" или \"Зарегистрироваться\".\\n3. Возможно, система отправит на ваш электронный адрес письмо с подтверждением. Откройте свою почту и следуйте инструкциям для завершения процесса регистрации.\\n\\n### Шаг 5: Вход в свой аккаунт\\n1. После успешной регистрации возвращайтесь на главную страницу MyApp.\\n2. Введите свое имя пользователя и пароль в соответствующие поля на странице входа.\\n3. Нажмите кнопку \"Войти\" или \"Вход\", чтобы войти в свой аккаунт.\\n\\nПоздравляю! Теперь у вас есть аккаунт на сервисе MyApp, и вы можете начать пользоваться его функциями. Не забудьте проверить свой профиль и настройки, чтобы убедиться, что все настроено по вашему вкусу.', metadata={'source': './documents/reg_account.txt'})]\n"
     ]
    }
   ],
   "source": [
    "loader = TextLoader(\"./documents/reg_account.txt\")\n",
    "input_doc = loader.load()\n",
    "#print(type(input_doc),len(input_doc), type(input_doc[0]), input_doc, sep=\"\\n\")\n",
    "query = \"Куда должно прийти письмо с подтверждением регистрации?\""
   ]
  },
  {
   "cell_type": "markdown",
   "id": "311f675b-9e71-4680-b024-4fc403ec050b",
   "metadata": {},
   "source": [
    "### Создание prompt шаблона для запроса"
   ]
  },
  {
   "cell_type": "code",
   "execution_count": 28,
   "id": "9c0c3afd-8b17-418b-8417-7d5171736988",
   "metadata": {},
   "outputs": [],
   "source": [
    "# page_content - is a key in langchain structure where to langchain load a document\n",
    "document_template = PromptTemplate(\n",
    "    input_variables=[\"page_content\"], #A list of the names of the variables.\n",
    "    template=\"{page_content}\" # The document template.\n",
    ")\n",
    "\n",
    "# The variable name where to put document in final prompt.\n",
    "document_variable_name = \"context\"\n",
    "\n",
    "# Template for prompt\n",
    "template_override = \"\"\"\n",
    "    Представь что ты сотрудник компании MyApp. \n",
    "    Пожалуйста, посмотри на текст ниже и ответь на вопрос, используя информацию из этого текста.\n",
    "    Текст:\n",
    "    -----\n",
    "    {context}\n",
    "    -----\n",
    "    Вопрос:\n",
    "    {query}\n",
    "\"\"\"\n",
    "\n",
    "# create prompt\n",
    "prompt = PromptTemplate(\n",
    "    input_variables=[\"context\", \"query\"],\n",
    "    template=template_override\n",
    ")"
   ]
  },
  {
   "cell_type": "markdown",
   "id": "e1886ea4-43f2-44fe-ba3b-05a482a5a8bd",
   "metadata": {},
   "source": [
    "### Создание цепочки"
   ]
  },
  {
   "cell_type": "code",
   "execution_count": 29,
   "id": "3595accd-d34c-4194-bddc-7236053b88c5",
   "metadata": {},
   "outputs": [],
   "source": [
    "# LLM object \n",
    "llm = YandexLLM(api_key=api_key, folder_id=folder_id)\n",
    "\n",
    "# create chain step 1: llm and prompt\n",
    "llm_chain = LLMChain(llm=llm, prompt=prompt)\n",
    "\n",
    "# create chain step 2: llm, prompt. And add: document, document variable \n",
    "chain = StuffDocumentsChain(\n",
    "    llm_chain=llm_chain,\n",
    "    document_prompt=document_template,\n",
    "    document_variable_name=document_variable_name\n",
    ")"
   ]
  },
  {
   "cell_type": "code",
   "execution_count": 30,
   "id": "e3ca4d46-0297-46f5-8ab9-cf0e72341bb1",
   "metadata": {},
   "outputs": [
    {
     "name": "stdout",
     "output_type": "stream",
     "text": [
      "Письмо с подтверждением регистрации должно прийти на адрес электронной почты, который был указан пользователем при регистрации.\n"
     ]
    }
   ],
   "source": [
    "result = chain.run(input_documents=input_doc, query=query)\n",
    "print(result)"
   ]
  },
  {
   "cell_type": "code",
   "execution_count": null,
   "id": "711bc6af-c3d9-4277-9434-1d65dac8e2ec",
   "metadata": {},
   "outputs": [],
   "source": []
  },
  {
   "cell_type": "code",
   "execution_count": null,
   "id": "93277ab5-8935-468b-bc4f-1d2ff8525ffc",
   "metadata": {},
   "outputs": [],
   "source": []
  }
 ],
 "metadata": {
  "kernelspec": {
   "display_name": "Python 3 (ipykernel)",
   "language": "python",
   "name": "python3"
  },
  "language_info": {
   "codemirror_mode": {
    "name": "ipython",
    "version": 3
   },
   "file_extension": ".py",
   "mimetype": "text/x-python",
   "name": "python",
   "nbconvert_exporter": "python",
   "pygments_lexer": "ipython3",
   "version": "3.11.4"
  }
 },
 "nbformat": 4,
 "nbformat_minor": 5
}
