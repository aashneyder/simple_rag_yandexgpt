{
 "cells": [
  {
   "cell_type": "code",
   "execution_count": 1,
   "id": "1e1d0317-8ece-48f9-a158-17b78275d027",
   "metadata": {
    "collapsed": true,
    "jupyter": {
     "outputs_hidden": true
    },
    "scrolled": true
   },
   "outputs": [
    {
     "name": "stdout",
     "output_type": "stream",
     "text": [
      "Requirement already satisfied: openai in /opt/conda/lib/python3.11/site-packages (from -r requirements.txt (line 1)) (1.14.1)\n",
      "Requirement already satisfied: python-dotenv in /opt/conda/lib/python3.11/site-packages (from -r requirements.txt (line 2)) (1.0.1)\n",
      "Requirement already satisfied: chromadb in /opt/conda/lib/python3.11/site-packages (from -r requirements.txt (line 3)) (0.4.24)\n",
      "Requirement already satisfied: langchain-chroma in /opt/conda/lib/python3.11/site-packages (from -r requirements.txt (line 4)) (0.1.0)\n",
      "Requirement already satisfied: langchain[all] in /opt/conda/lib/python3.11/site-packages (from -r requirements.txt (line 5)) (0.1.12)\n",
      "Requirement already satisfied: anyio<5,>=3.5.0 in /opt/conda/lib/python3.11/site-packages (from openai->-r requirements.txt (line 1)) (3.7.0)\n",
      "Requirement already satisfied: distro<2,>=1.7.0 in /opt/conda/lib/python3.11/site-packages (from openai->-r requirements.txt (line 1)) (1.9.0)\n",
      "Requirement already satisfied: httpx<1,>=0.23.0 in /opt/conda/lib/python3.11/site-packages (from openai->-r requirements.txt (line 1)) (0.27.0)\n",
      "Requirement already satisfied: pydantic<3,>=1.9.0 in /opt/conda/lib/python3.11/site-packages (from openai->-r requirements.txt (line 1)) (2.6.4)\n",
      "Requirement already satisfied: sniffio in /opt/conda/lib/python3.11/site-packages (from openai->-r requirements.txt (line 1)) (1.3.0)\n",
      "Requirement already satisfied: tqdm>4 in /opt/conda/lib/python3.11/site-packages (from openai->-r requirements.txt (line 1)) (4.65.0)\n",
      "Requirement already satisfied: typing-extensions<5,>=4.7 in /opt/conda/lib/python3.11/site-packages (from openai->-r requirements.txt (line 1)) (4.10.0)\n",
      "Requirement already satisfied: build>=1.0.3 in /opt/conda/lib/python3.11/site-packages (from chromadb->-r requirements.txt (line 3)) (1.2.1)\n",
      "Requirement already satisfied: requests>=2.28 in /opt/conda/lib/python3.11/site-packages (from chromadb->-r requirements.txt (line 3)) (2.31.0)\n",
      "Requirement already satisfied: chroma-hnswlib==0.7.3 in /opt/conda/lib/python3.11/site-packages (from chromadb->-r requirements.txt (line 3)) (0.7.3)\n",
      "Requirement already satisfied: fastapi>=0.95.2 in /opt/conda/lib/python3.11/site-packages (from chromadb->-r requirements.txt (line 3)) (0.110.1)\n",
      "Requirement already satisfied: uvicorn[standard]>=0.18.3 in /opt/conda/lib/python3.11/site-packages (from chromadb->-r requirements.txt (line 3)) (0.29.0)\n",
      "Requirement already satisfied: numpy>=1.22.5 in /opt/conda/lib/python3.11/site-packages (from chromadb->-r requirements.txt (line 3)) (1.26.4)\n",
      "Requirement already satisfied: posthog>=2.4.0 in /opt/conda/lib/python3.11/site-packages (from chromadb->-r requirements.txt (line 3)) (3.5.0)\n",
      "Requirement already satisfied: pulsar-client>=3.1.0 in /opt/conda/lib/python3.11/site-packages (from chromadb->-r requirements.txt (line 3)) (3.5.0)\n",
      "Requirement already satisfied: onnxruntime>=1.14.1 in /opt/conda/lib/python3.11/site-packages (from chromadb->-r requirements.txt (line 3)) (1.17.3)\n",
      "Requirement already satisfied: opentelemetry-api>=1.2.0 in /opt/conda/lib/python3.11/site-packages (from chromadb->-r requirements.txt (line 3)) (1.24.0)\n",
      "Requirement already satisfied: opentelemetry-exporter-otlp-proto-grpc>=1.2.0 in /opt/conda/lib/python3.11/site-packages (from chromadb->-r requirements.txt (line 3)) (1.24.0)\n",
      "Requirement already satisfied: opentelemetry-instrumentation-fastapi>=0.41b0 in /opt/conda/lib/python3.11/site-packages (from chromadb->-r requirements.txt (line 3)) (0.45b0)\n",
      "Requirement already satisfied: opentelemetry-sdk>=1.2.0 in /opt/conda/lib/python3.11/site-packages (from chromadb->-r requirements.txt (line 3)) (1.24.0)\n",
      "Requirement already satisfied: tokenizers>=0.13.2 in /opt/conda/lib/python3.11/site-packages (from chromadb->-r requirements.txt (line 3)) (0.15.2)\n",
      "Requirement already satisfied: pypika>=0.48.9 in /opt/conda/lib/python3.11/site-packages (from chromadb->-r requirements.txt (line 3)) (0.48.9)\n",
      "Requirement already satisfied: overrides>=7.3.1 in /opt/conda/lib/python3.11/site-packages (from chromadb->-r requirements.txt (line 3)) (7.3.1)\n",
      "Requirement already satisfied: importlib-resources in /opt/conda/lib/python3.11/site-packages (from chromadb->-r requirements.txt (line 3)) (5.12.0)\n",
      "Requirement already satisfied: grpcio>=1.58.0 in /opt/conda/lib/python3.11/site-packages (from chromadb->-r requirements.txt (line 3)) (1.62.1)\n",
      "Requirement already satisfied: bcrypt>=4.0.1 in /opt/conda/lib/python3.11/site-packages (from chromadb->-r requirements.txt (line 3)) (4.1.2)\n",
      "Requirement already satisfied: typer>=0.9.0 in /opt/conda/lib/python3.11/site-packages (from chromadb->-r requirements.txt (line 3)) (0.12.3)\n",
      "Requirement already satisfied: kubernetes>=28.1.0 in /opt/conda/lib/python3.11/site-packages (from chromadb->-r requirements.txt (line 3)) (29.0.0)\n",
      "Requirement already satisfied: tenacity>=8.2.3 in /opt/conda/lib/python3.11/site-packages (from chromadb->-r requirements.txt (line 3)) (8.2.3)\n",
      "Requirement already satisfied: PyYAML>=6.0.0 in /opt/conda/lib/python3.11/site-packages (from chromadb->-r requirements.txt (line 3)) (6.0)\n",
      "Requirement already satisfied: mmh3>=4.0.1 in /opt/conda/lib/python3.11/site-packages (from chromadb->-r requirements.txt (line 3)) (4.1.0)\n",
      "Requirement already satisfied: orjson>=3.9.12 in /opt/conda/lib/python3.11/site-packages (from chromadb->-r requirements.txt (line 3)) (3.9.15)\n",
      "Requirement already satisfied: langchain-core<0.2.0,>=0.1.40 in /opt/conda/lib/python3.11/site-packages (from langchain-chroma->-r requirements.txt (line 4)) (0.1.43)\n",
      "Requirement already satisfied: SQLAlchemy<3,>=1.4 in /opt/conda/lib/python3.11/site-packages (from langchain[all]->-r requirements.txt (line 5)) (2.0.17)\n",
      "Requirement already satisfied: aiohttp<4.0.0,>=3.8.3 in /opt/conda/lib/python3.11/site-packages (from langchain[all]->-r requirements.txt (line 5)) (3.9.3)\n",
      "Requirement already satisfied: dataclasses-json<0.7,>=0.5.7 in /opt/conda/lib/python3.11/site-packages (from langchain[all]->-r requirements.txt (line 5)) (0.6.4)\n",
      "Requirement already satisfied: jsonpatch<2.0,>=1.33 in /opt/conda/lib/python3.11/site-packages (from langchain[all]->-r requirements.txt (line 5)) (1.33)\n",
      "Requirement already satisfied: langchain-community<0.1,>=0.0.28 in /opt/conda/lib/python3.11/site-packages (from langchain[all]->-r requirements.txt (line 5)) (0.0.28)\n",
      "Requirement already satisfied: langchain-text-splitters<0.1,>=0.0.1 in /opt/conda/lib/python3.11/site-packages (from langchain[all]->-r requirements.txt (line 5)) (0.0.1)\n",
      "Requirement already satisfied: langsmith<0.2.0,>=0.1.17 in /opt/conda/lib/python3.11/site-packages (from langchain[all]->-r requirements.txt (line 5)) (0.1.29)\n",
      "Requirement already satisfied: aiosignal>=1.1.2 in /opt/conda/lib/python3.11/site-packages (from aiohttp<4.0.0,>=3.8.3->langchain[all]->-r requirements.txt (line 5)) (1.3.1)\n",
      "Requirement already satisfied: attrs>=17.3.0 in /opt/conda/lib/python3.11/site-packages (from aiohttp<4.0.0,>=3.8.3->langchain[all]->-r requirements.txt (line 5)) (23.1.0)\n",
      "Requirement already satisfied: frozenlist>=1.1.1 in /opt/conda/lib/python3.11/site-packages (from aiohttp<4.0.0,>=3.8.3->langchain[all]->-r requirements.txt (line 5)) (1.4.1)\n",
      "Requirement already satisfied: multidict<7.0,>=4.5 in /opt/conda/lib/python3.11/site-packages (from aiohttp<4.0.0,>=3.8.3->langchain[all]->-r requirements.txt (line 5)) (6.0.5)\n",
      "Requirement already satisfied: yarl<2.0,>=1.0 in /opt/conda/lib/python3.11/site-packages (from aiohttp<4.0.0,>=3.8.3->langchain[all]->-r requirements.txt (line 5)) (1.9.4)\n",
      "Requirement already satisfied: idna>=2.8 in /opt/conda/lib/python3.11/site-packages (from anyio<5,>=3.5.0->openai->-r requirements.txt (line 1)) (3.4)\n",
      "Requirement already satisfied: packaging>=19.1 in /opt/conda/lib/python3.11/site-packages (from build>=1.0.3->chromadb->-r requirements.txt (line 3)) (23.2)\n",
      "Requirement already satisfied: pyproject_hooks in /opt/conda/lib/python3.11/site-packages (from build>=1.0.3->chromadb->-r requirements.txt (line 3)) (1.0.0)\n",
      "Requirement already satisfied: marshmallow<4.0.0,>=3.18.0 in /opt/conda/lib/python3.11/site-packages (from dataclasses-json<0.7,>=0.5.7->langchain[all]->-r requirements.txt (line 5)) (3.21.1)\n",
      "Requirement already satisfied: typing-inspect<1,>=0.4.0 in /opt/conda/lib/python3.11/site-packages (from dataclasses-json<0.7,>=0.5.7->langchain[all]->-r requirements.txt (line 5)) (0.9.0)\n",
      "Requirement already satisfied: starlette<0.38.0,>=0.37.2 in /opt/conda/lib/python3.11/site-packages (from fastapi>=0.95.2->chromadb->-r requirements.txt (line 3)) (0.37.2)\n",
      "Requirement already satisfied: certifi in /opt/conda/lib/python3.11/site-packages (from httpx<1,>=0.23.0->openai->-r requirements.txt (line 1)) (2023.5.7)\n",
      "Requirement already satisfied: httpcore==1.* in /opt/conda/lib/python3.11/site-packages (from httpx<1,>=0.23.0->openai->-r requirements.txt (line 1)) (1.0.4)\n",
      "Requirement already satisfied: h11<0.15,>=0.13 in /opt/conda/lib/python3.11/site-packages (from httpcore==1.*->httpx<1,>=0.23.0->openai->-r requirements.txt (line 1)) (0.14.0)\n",
      "Requirement already satisfied: jsonpointer>=1.9 in /opt/conda/lib/python3.11/site-packages (from jsonpatch<2.0,>=1.33->langchain[all]->-r requirements.txt (line 5)) (2.0)\n",
      "Requirement already satisfied: six>=1.9.0 in /opt/conda/lib/python3.11/site-packages (from kubernetes>=28.1.0->chromadb->-r requirements.txt (line 3)) (1.16.0)\n",
      "Requirement already satisfied: python-dateutil>=2.5.3 in /opt/conda/lib/python3.11/site-packages (from kubernetes>=28.1.0->chromadb->-r requirements.txt (line 3)) (2.8.2)\n",
      "Requirement already satisfied: google-auth>=1.0.1 in /opt/conda/lib/python3.11/site-packages (from kubernetes>=28.1.0->chromadb->-r requirements.txt (line 3)) (2.29.0)\n",
      "Requirement already satisfied: websocket-client!=0.40.0,!=0.41.*,!=0.42.*,>=0.32.0 in /opt/conda/lib/python3.11/site-packages (from kubernetes>=28.1.0->chromadb->-r requirements.txt (line 3)) (1.6.1)\n",
      "Requirement already satisfied: requests-oauthlib in /opt/conda/lib/python3.11/site-packages (from kubernetes>=28.1.0->chromadb->-r requirements.txt (line 3)) (2.0.0)\n",
      "Requirement already satisfied: oauthlib>=3.2.2 in /opt/conda/lib/python3.11/site-packages (from kubernetes>=28.1.0->chromadb->-r requirements.txt (line 3)) (3.2.2)\n",
      "Requirement already satisfied: urllib3>=1.24.2 in /opt/conda/lib/python3.11/site-packages (from kubernetes>=28.1.0->chromadb->-r requirements.txt (line 3)) (2.0.3)\n",
      "Requirement already satisfied: coloredlogs in /opt/conda/lib/python3.11/site-packages (from onnxruntime>=1.14.1->chromadb->-r requirements.txt (line 3)) (15.0.1)\n",
      "Requirement already satisfied: flatbuffers in /opt/conda/lib/python3.11/site-packages (from onnxruntime>=1.14.1->chromadb->-r requirements.txt (line 3)) (24.3.25)\n",
      "Requirement already satisfied: protobuf in /opt/conda/lib/python3.11/site-packages (from onnxruntime>=1.14.1->chromadb->-r requirements.txt (line 3)) (4.25.3)\n",
      "Requirement already satisfied: sympy in /opt/conda/lib/python3.11/site-packages (from onnxruntime>=1.14.1->chromadb->-r requirements.txt (line 3)) (1.12)\n",
      "Requirement already satisfied: deprecated>=1.2.6 in /opt/conda/lib/python3.11/site-packages (from opentelemetry-api>=1.2.0->chromadb->-r requirements.txt (line 3)) (1.2.14)\n",
      "Requirement already satisfied: importlib-metadata<=7.0,>=6.0 in /opt/conda/lib/python3.11/site-packages (from opentelemetry-api>=1.2.0->chromadb->-r requirements.txt (line 3)) (6.7.0)\n",
      "Requirement already satisfied: googleapis-common-protos~=1.52 in /opt/conda/lib/python3.11/site-packages (from opentelemetry-exporter-otlp-proto-grpc>=1.2.0->chromadb->-r requirements.txt (line 3)) (1.63.0)\n",
      "Requirement already satisfied: opentelemetry-exporter-otlp-proto-common==1.24.0 in /opt/conda/lib/python3.11/site-packages (from opentelemetry-exporter-otlp-proto-grpc>=1.2.0->chromadb->-r requirements.txt (line 3)) (1.24.0)\n",
      "Requirement already satisfied: opentelemetry-proto==1.24.0 in /opt/conda/lib/python3.11/site-packages (from opentelemetry-exporter-otlp-proto-grpc>=1.2.0->chromadb->-r requirements.txt (line 3)) (1.24.0)\n",
      "Requirement already satisfied: opentelemetry-instrumentation-asgi==0.45b0 in /opt/conda/lib/python3.11/site-packages (from opentelemetry-instrumentation-fastapi>=0.41b0->chromadb->-r requirements.txt (line 3)) (0.45b0)\n",
      "Requirement already satisfied: opentelemetry-instrumentation==0.45b0 in /opt/conda/lib/python3.11/site-packages (from opentelemetry-instrumentation-fastapi>=0.41b0->chromadb->-r requirements.txt (line 3)) (0.45b0)\n",
      "Requirement already satisfied: opentelemetry-semantic-conventions==0.45b0 in /opt/conda/lib/python3.11/site-packages (from opentelemetry-instrumentation-fastapi>=0.41b0->chromadb->-r requirements.txt (line 3)) (0.45b0)\n",
      "Requirement already satisfied: opentelemetry-util-http==0.45b0 in /opt/conda/lib/python3.11/site-packages (from opentelemetry-instrumentation-fastapi>=0.41b0->chromadb->-r requirements.txt (line 3)) (0.45b0)\n",
      "Requirement already satisfied: setuptools>=16.0 in /opt/conda/lib/python3.11/site-packages (from opentelemetry-instrumentation==0.45b0->opentelemetry-instrumentation-fastapi>=0.41b0->chromadb->-r requirements.txt (line 3)) (68.0.0)\n",
      "Requirement already satisfied: wrapt<2.0.0,>=1.0.0 in /opt/conda/lib/python3.11/site-packages (from opentelemetry-instrumentation==0.45b0->opentelemetry-instrumentation-fastapi>=0.41b0->chromadb->-r requirements.txt (line 3)) (1.16.0)\n",
      "Requirement already satisfied: asgiref~=3.0 in /opt/conda/lib/python3.11/site-packages (from opentelemetry-instrumentation-asgi==0.45b0->opentelemetry-instrumentation-fastapi>=0.41b0->chromadb->-r requirements.txt (line 3)) (3.8.1)\n",
      "Requirement already satisfied: monotonic>=1.5 in /opt/conda/lib/python3.11/site-packages (from posthog>=2.4.0->chromadb->-r requirements.txt (line 3)) (1.6)\n",
      "Requirement already satisfied: backoff>=1.10.0 in /opt/conda/lib/python3.11/site-packages (from posthog>=2.4.0->chromadb->-r requirements.txt (line 3)) (2.2.1)\n",
      "Requirement already satisfied: annotated-types>=0.4.0 in /opt/conda/lib/python3.11/site-packages (from pydantic<3,>=1.9.0->openai->-r requirements.txt (line 1)) (0.6.0)\n",
      "Requirement already satisfied: pydantic-core==2.16.3 in /opt/conda/lib/python3.11/site-packages (from pydantic<3,>=1.9.0->openai->-r requirements.txt (line 1)) (2.16.3)\n",
      "Requirement already satisfied: charset-normalizer<4,>=2 in /opt/conda/lib/python3.11/site-packages (from requests>=2.28->chromadb->-r requirements.txt (line 3)) (3.1.0)\n",
      "Requirement already satisfied: greenlet!=0.4.17 in /opt/conda/lib/python3.11/site-packages (from SQLAlchemy<3,>=1.4->langchain[all]->-r requirements.txt (line 5)) (2.0.2)\n",
      "Requirement already satisfied: huggingface_hub<1.0,>=0.16.4 in /opt/conda/lib/python3.11/site-packages (from tokenizers>=0.13.2->chromadb->-r requirements.txt (line 3)) (0.22.2)\n",
      "Requirement already satisfied: click>=8.0.0 in /opt/conda/lib/python3.11/site-packages (from typer>=0.9.0->chromadb->-r requirements.txt (line 3)) (8.1.7)\n",
      "Requirement already satisfied: shellingham>=1.3.0 in /opt/conda/lib/python3.11/site-packages (from typer>=0.9.0->chromadb->-r requirements.txt (line 3)) (1.5.4)\n",
      "Requirement already satisfied: rich>=10.11.0 in /opt/conda/lib/python3.11/site-packages (from typer>=0.9.0->chromadb->-r requirements.txt (line 3)) (13.7.1)\n",
      "Requirement already satisfied: httptools>=0.5.0 in /opt/conda/lib/python3.11/site-packages (from uvicorn[standard]>=0.18.3->chromadb->-r requirements.txt (line 3)) (0.6.1)\n",
      "Requirement already satisfied: uvloop!=0.15.0,!=0.15.1,>=0.14.0 in /opt/conda/lib/python3.11/site-packages (from uvicorn[standard]>=0.18.3->chromadb->-r requirements.txt (line 3)) (0.19.0)\n",
      "Requirement already satisfied: watchfiles>=0.13 in /opt/conda/lib/python3.11/site-packages (from uvicorn[standard]>=0.18.3->chromadb->-r requirements.txt (line 3)) (0.21.0)\n",
      "Requirement already satisfied: websockets>=10.4 in /opt/conda/lib/python3.11/site-packages (from uvicorn[standard]>=0.18.3->chromadb->-r requirements.txt (line 3)) (12.0)\n",
      "Requirement already satisfied: cachetools<6.0,>=2.0.0 in /opt/conda/lib/python3.11/site-packages (from google-auth>=1.0.1->kubernetes>=28.1.0->chromadb->-r requirements.txt (line 3)) (5.3.3)\n",
      "Requirement already satisfied: pyasn1-modules>=0.2.1 in /opt/conda/lib/python3.11/site-packages (from google-auth>=1.0.1->kubernetes>=28.1.0->chromadb->-r requirements.txt (line 3)) (0.4.0)\n",
      "Requirement already satisfied: rsa<5,>=3.1.4 in /opt/conda/lib/python3.11/site-packages (from google-auth>=1.0.1->kubernetes>=28.1.0->chromadb->-r requirements.txt (line 3)) (4.9)\n",
      "Requirement already satisfied: filelock in /opt/conda/lib/python3.11/site-packages (from huggingface_hub<1.0,>=0.16.4->tokenizers>=0.13.2->chromadb->-r requirements.txt (line 3)) (3.13.4)\n",
      "Requirement already satisfied: fsspec>=2023.5.0 in /opt/conda/lib/python3.11/site-packages (from huggingface_hub<1.0,>=0.16.4->tokenizers>=0.13.2->chromadb->-r requirements.txt (line 3)) (2024.3.1)\n",
      "Requirement already satisfied: zipp>=0.5 in /opt/conda/lib/python3.11/site-packages (from importlib-metadata<=7.0,>=6.0->opentelemetry-api>=1.2.0->chromadb->-r requirements.txt (line 3)) (3.15.0)\n",
      "Requirement already satisfied: markdown-it-py>=2.2.0 in /opt/conda/lib/python3.11/site-packages (from rich>=10.11.0->typer>=0.9.0->chromadb->-r requirements.txt (line 3)) (3.0.0)\n",
      "Requirement already satisfied: pygments<3.0.0,>=2.13.0 in /opt/conda/lib/python3.11/site-packages (from rich>=10.11.0->typer>=0.9.0->chromadb->-r requirements.txt (line 3)) (2.15.1)\n",
      "Requirement already satisfied: mypy-extensions>=0.3.0 in /opt/conda/lib/python3.11/site-packages (from typing-inspect<1,>=0.4.0->dataclasses-json<0.7,>=0.5.7->langchain[all]->-r requirements.txt (line 5)) (1.0.0)\n",
      "Requirement already satisfied: humanfriendly>=9.1 in /opt/conda/lib/python3.11/site-packages (from coloredlogs->onnxruntime>=1.14.1->chromadb->-r requirements.txt (line 3)) (10.0)\n",
      "Requirement already satisfied: mpmath>=0.19 in /opt/conda/lib/python3.11/site-packages (from sympy->onnxruntime>=1.14.1->chromadb->-r requirements.txt (line 3)) (1.3.0)\n",
      "Requirement already satisfied: mdurl~=0.1 in /opt/conda/lib/python3.11/site-packages (from markdown-it-py>=2.2.0->rich>=10.11.0->typer>=0.9.0->chromadb->-r requirements.txt (line 3)) (0.1.2)\n",
      "Requirement already satisfied: pyasn1<0.7.0,>=0.4.6 in /opt/conda/lib/python3.11/site-packages (from pyasn1-modules>=0.2.1->google-auth>=1.0.1->kubernetes>=28.1.0->chromadb->-r requirements.txt (line 3)) (0.6.0)\n"
     ]
    }
   ],
   "source": [
    "!pip install -r requirements.txt"
   ]
  },
  {
   "cell_type": "code",
   "execution_count": 5,
   "id": "3fe4bb21-d694-4958-99a2-ce07f58271af",
   "metadata": {},
   "outputs": [],
   "source": [
    "import os\n",
    "import glob\n",
    "import json\n",
    "import chromadb\n",
    "\n",
    "from langchain_community.document_loaders import TextLoader\n",
    "from langchain.chains import StuffDocumentsChain, LLMChain\n",
    "from langchain_core.prompts import PromptTemplate\n",
    "from langchain.docstore.document import Document\n",
    "\n",
    "%reload_ext dotenv \n",
    "%dotenv \n",
    "\n",
    "%run YandexLLM.ipynb\n",
    "%run YandexEmbeddings.ipynb\n",
    "\n",
    "api_key = os.getenv('YAGPT_API_KEY')\n",
    "folder_id = os.getenv('YA_FOLDER_ID')"
   ]
  },
  {
   "cell_type": "markdown",
   "id": "43192a69-a191-4278-8887-27d4f7c45e0b",
   "metadata": {},
   "source": [
    "### Создание экяземпляров моделей и формирование эмбедингов документов"
   ]
  },
  {
   "cell_type": "code",
   "execution_count": 6,
   "id": "957836b8-c83c-4085-af42-387f68c6a106",
   "metadata": {},
   "outputs": [],
   "source": [
    "embeding_model = YandexEmbeddings(api_key, folder_id)\n",
    "llm_model = YandexLLM(api_key=api_key, folder_id=folder_id)"
   ]
  },
  {
   "cell_type": "code",
   "execution_count": 7,
   "id": "f6aabc46-d806-4115-9021-7aa8913f31d9",
   "metadata": {},
   "outputs": [],
   "source": [
    "doc_files = glob.glob('/home/ashneider/mount/simple_rag_yandexgpt/documents/*.txt')\n",
    "\n",
    "doc_texts = []\n",
    "for file_name in doc_files:\n",
    "    data = open(file_name, \"r\").read()\n",
    "    doc_texts.append(data)\n",
    "\n",
    "doc_embeddings = []\n",
    "for doc in doc_texts:\n",
    "    doc_embeddings.append(json.loads(embeding_model.embed_documents(doc))[\"embedding\"])\n",
    "\n",
    "# print(len(doc_embeddings))"
   ]
  },
  {
   "cell_type": "markdown",
   "id": "dbd49940-e151-4439-9a6b-eac04c7c68f8",
   "metadata": {},
   "source": [
    "### Заполнение векторной БД"
   ]
  },
  {
   "cell_type": "code",
   "execution_count": 8,
   "id": "7b42b335-49e7-4577-8b18-7a9b722db89d",
   "metadata": {},
   "outputs": [],
   "source": [
    "# client.delete_collection(\"InternalDocs\")"
   ]
  },
  {
   "cell_type": "code",
   "execution_count": 9,
   "id": "e9bb56e3-c022-44a2-9eb9-71939970766a",
   "metadata": {},
   "outputs": [],
   "source": [
    "client = chromadb.Client()\n",
    "\n",
    "collection = client.get_or_create_collection(name=\"InternalDocs\")\n",
    "\n",
    "collection.add(\n",
    "    embeddings = doc_embeddings,\n",
    "    documents = [doc_texts[0], doc_texts[1]],\n",
    "    metadatas = [{\"source\": \"register_account\"},{\"source\": \"vocation_request\"}],\n",
    "    ids = [\"id1\", \"id2\"]\n",
    ")\n"
   ]
  },
  {
   "cell_type": "markdown",
   "id": "00a6cf40-c66d-47d7-ada1-73d45f28903c",
   "metadata": {},
   "source": [
    "### Поиск в БД документов релевантных запросу"
   ]
  },
  {
   "cell_type": "code",
   "execution_count": 10,
   "id": "65c5a183-6a84-44ed-8e20-23db911bdb36",
   "metadata": {},
   "outputs": [],
   "source": [
    "query = \"Как оформить заявку на 18 рабочих дней?\"\n",
    "\n",
    "query_embedding = json.loads(embeding_model.embed_query(doc))[\"embedding\"]\n",
    "\n",
    "relevant_doc = collection.query(\n",
    "    query_embeddings=query_embedding,\n",
    "    n_results=1\n",
    ")\n",
    "\n",
    "relevant_doc_lgch =  [Document(page_content=relevant_doc['documents'][0][0], metadata=relevant_doc['metadatas'][0][0])]"
   ]
  },
  {
   "cell_type": "markdown",
   "id": "9606695f-c84c-47b4-b4fd-6a1cbc7b0795",
   "metadata": {},
   "source": [
    "### Формирование промпта"
   ]
  },
  {
   "cell_type": "code",
   "execution_count": 11,
   "id": "91cc30e5-03b0-408f-a953-eed69e4125f5",
   "metadata": {},
   "outputs": [],
   "source": [
    "# page_content - is a key in langchain data type \"Document\", where to langchain expect find raw text\n",
    "document_template = PromptTemplate(\n",
    "    input_variables=[\"page_content\"], #A list of the names of the variables.\n",
    "    template=\"{page_content}\" # The document template.\n",
    ")\n",
    "\n",
    "# The variable name where to put document in final prompt.\n",
    "document_variable_name = \"context\"\n",
    "\n",
    "# Template for prompt\n",
    "template_override = \"\"\"\n",
    "    Представь что ты сотрудник компании MyApp. \n",
    "    Пожалуйста, посмотри на текст ниже и ответь на вопрос, используя информацию из этого текста.\n",
    "    Текст:\n",
    "    -----\n",
    "    {context}\n",
    "    -----\n",
    "    Вопрос:\n",
    "    {query}\n",
    "\"\"\"\n",
    "\n",
    "# create prompt\n",
    "prompt = PromptTemplate(\n",
    "    input_variables=[\"context\", \"query\"],\n",
    "    template=template_override\n",
    ")"
   ]
  },
  {
   "cell_type": "markdown",
   "id": "6511997e-c953-4a96-acfb-4c74a1e4161e",
   "metadata": {},
   "source": [
    "### Создание и выполнение цепочки "
   ]
  },
  {
   "cell_type": "code",
   "execution_count": 12,
   "id": "b49b23a3-edf0-46ee-b167-781e776cdb3e",
   "metadata": {},
   "outputs": [],
   "source": [
    "llm_chain = LLMChain(llm=llm_model, prompt=prompt)\n",
    "\n",
    "chain = StuffDocumentsChain(\n",
    "    llm_chain=llm_chain,\n",
    "    document_prompt=document_template,\n",
    "    document_variable_name=document_variable_name\n",
    ")"
   ]
  },
  {
   "cell_type": "code",
   "execution_count": 13,
   "id": "b8130211-a9a7-46c9-ad53-5656224cf9ea",
   "metadata": {},
   "outputs": [
    {
     "name": "stderr",
     "output_type": "stream",
     "text": [
      "/opt/conda/lib/python3.11/site-packages/langchain_core/_api/deprecation.py:117: LangChainDeprecationWarning: The function `run` was deprecated in LangChain 0.1.0 and will be removed in 0.2.0. Use invoke instead.\n",
      "  warn_deprecated(\n"
     ]
    },
    {
     "name": "stdout",
     "output_type": "stream",
     "text": [
      "Согласно информации из текста, одна заявка не может быть оформлена более чем на 10 рабочих дней отпуска. Если сотруднику необходимо взять 18 рабочих дней отпуска, ему следует разделить этот период на несколько заявок, каждая из которых не превышает 10 рабочих дней. Для этого необходимо оформить несколько заявок на отпуск, каждая из которых соответствует требованиям, описанным в инструкции.\n",
      "\n",
      "Также стоит учесть, что для оформления заявок на отпуск вне графика сотруднику необходимо обратиться к своему руководителю. В этом случае даты отпуска не будут включать в себя выходные дни, а количество дней отпуска может быть ограничено.\n"
     ]
    }
   ],
   "source": [
    "result = chain.run(input_documents=relevant_doc_lgch, query=query)\n",
    "print(result)"
   ]
  },
  {
   "cell_type": "code",
   "execution_count": null,
   "id": "1d9da680-36f6-44c2-870a-8a4acfcb07ce",
   "metadata": {},
   "outputs": [],
   "source": []
  },
  {
   "cell_type": "code",
   "execution_count": null,
   "id": "8a83b621-30d4-4869-98e9-c00b65192943",
   "metadata": {},
   "outputs": [],
   "source": []
  }
 ],
 "metadata": {
  "kernelspec": {
   "display_name": "Python 3 (ipykernel)",
   "language": "python",
   "name": "python3"
  },
  "language_info": {
   "codemirror_mode": {
    "name": "ipython",
    "version": 3
   },
   "file_extension": ".py",
   "mimetype": "text/x-python",
   "name": "python",
   "nbconvert_exporter": "python",
   "pygments_lexer": "ipython3",
   "version": "3.11.4"
  }
 },
 "nbformat": 4,
 "nbformat_minor": 5
}
