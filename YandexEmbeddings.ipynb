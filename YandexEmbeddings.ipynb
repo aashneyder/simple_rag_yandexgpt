{
 "cells": [
  {
   "cell_type": "code",
   "execution_count": 1,
   "id": "e8765712-bdb7-488a-b65b-3a0d80690b3f",
   "metadata": {},
   "outputs": [],
   "source": [
    "from langchain.embeddings.base import Embeddings\n",
    "import requests\n",
    "import langchain\n",
    "\n",
    "class YandexEmbeddings(Embeddings):\n",
    "    def __init__(self, api_key=None, folder_id=None):\n",
    "        self.api_key = api_key\n",
    "        self.folder_id = folder_id\n",
    "        self.headers = {'Authorization': 'Api-key ' + self.api_key,\n",
    "                             \"x-folder-id\" : self.folder_id }\n",
    "        self.doc_uri = f\"emb://{self.folder_id}/text-search-doc/latest\"\n",
    "        self.query_uri = f\"emb://{self.folder_id}/text-search-query/latest\"\n",
    "        self.embed_url = \"https://llm.api.cloud.yandex.net:443/foundationModels/v1/textEmbedding\"\n",
    "\n",
    "\n",
    "    def embed_documents(self, text):\n",
    "        json = {\n",
    "            \"modelUri\": self.doc_uri,\n",
    "            \"text\": text\n",
    "        }\n",
    "        vec = requests.post(self.embed_url, json=json, headers=self.headers)\n",
    "        return vec.text\n",
    "    def embed_query(self, text):\n",
    "        json = {\n",
    "            \"modelUri\": self.query_uri,\n",
    "            \"text\": text\n",
    "        }\n",
    "        vec = requests.post(self.embed_url, json=json, headers=self.headers)\n",
    "        return vec.text"
   ]
  },
  {
   "cell_type": "code",
   "execution_count": null,
   "id": "18d9a4f9-7421-4a05-bc3a-d038f921331a",
   "metadata": {},
   "outputs": [],
   "source": []
  }
 ],
 "metadata": {
  "kernelspec": {
   "display_name": "Python 3 (ipykernel)",
   "language": "python",
   "name": "python3"
  },
  "language_info": {
   "codemirror_mode": {
    "name": "ipython",
    "version": 3
   },
   "file_extension": ".py",
   "mimetype": "text/x-python",
   "name": "python",
   "nbconvert_exporter": "python",
   "pygments_lexer": "ipython3",
   "version": "3.11.4"
  }
 },
 "nbformat": 4,
 "nbformat_minor": 5
}
