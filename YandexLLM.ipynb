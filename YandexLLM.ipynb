{
 "cells": [
  {
   "cell_type": "code",
   "execution_count": 1,
   "id": "05132458-93ea-4d1f-ad9f-0ad5761b04d0",
   "metadata": {},
   "outputs": [],
   "source": [
    "import requests\n",
    "import json\n",
    "from typing import Optional, List, Mapping, Any\n",
    "from langchain_core.language_models.llms import LLM\n",
    "from langchain.callbacks.manager import CallbackManagerForLLMRun\n",
    "\n",
    "class YandexLLM(LLM):\n",
    "    api_key: str = None\n",
    "    folder_id: str = None\n",
    "    max_tokens : int = 1500\n",
    "    temperature : float = 0.3\n",
    "        \n",
    "    def _call(\n",
    "        self,\n",
    "        prompt: str,\n",
    "        stop: Optional[List[str]] = None,\n",
    "        run_manager: Optional[CallbackManagerForLLMRun] = None,\n",
    "        **kwargs: Any,\n",
    "    ) -> str:\n",
    "\n",
    "        if stop is not None:\n",
    "            raise ValueError(\"stop kwargs are not permitted.\")\n",
    "\n",
    "        headers = {'Authorization': f'Api-Key {self.api_key}', \"x-folder-id\": f\"{self.folder_id}\"}\n",
    "        req_completion = {\n",
    "            \"modelUri\": f\"gpt://{self.folder_id}/yandexgpt-lite/latest\",\n",
    "            \"completionOptions\": {\n",
    "                \"temperature\": self.temperature,\n",
    "                \"maxTokens\": self.max_tokens \n",
    "            },\n",
    "            \"messages\": [\n",
    "                {\n",
    "                    \"role\": \"system\",\n",
    "                    \"text\": f\"{prompt}\"\n",
    "                }\n",
    "            ]\n",
    "        }\n",
    "\n",
    "        answer = requests.post(url=\"https://llm.api.cloud.yandex.net/foundationModels/v1/completion\", #(\"https://llm.api.cloud.yandex.net/llm/v1alpha/instruct\",\n",
    "                            headers=headers, json=req_completion)\n",
    "        \n",
    "        res = json.loads(answer.text)\n",
    "        return res[\"result\"][\"alternatives\"][0][\"message\"][\"text\"]\n",
    "\n",
    "    @property\n",
    "    def _identifying_params(self) -> Mapping[str, Any]:\n",
    "        \"\"\"Get the identifying parameters.\"\"\"\n",
    "        return {\"model_name\": \"YandexGPT_RAGbot\"}\n",
    "    \n",
    "    @property\n",
    "    def _llm_type(self) -> str:\n",
    "        return \"yagpt\"\n"
   ]
  }
 ],
 "metadata": {
  "kernelspec": {
   "display_name": "Python 3 (ipykernel)",
   "language": "python",
   "name": "python3"
  },
  "language_info": {
   "codemirror_mode": {
    "name": "ipython",
    "version": 3
   },
   "file_extension": ".py",
   "mimetype": "text/x-python",
   "name": "python",
   "nbconvert_exporter": "python",
   "pygments_lexer": "ipython3",
   "version": "3.11.4"
  }
 },
 "nbformat": 4,
 "nbformat_minor": 5
}
